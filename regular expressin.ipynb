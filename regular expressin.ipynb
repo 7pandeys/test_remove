{
 "cells": [
  {
   "cell_type": "code",
   "execution_count": 56,
   "id": "3ca9de49",
   "metadata": {},
   "outputs": [],
   "source": [
    "text = 'The pone number is of the the agenet is 400-555-1234 call me soon! on 400-555-2434 <html>'"
   ]
  },
  {
   "cell_type": "code",
   "execution_count": 57,
   "id": "847885e2",
   "metadata": {},
   "outputs": [
    {
     "data": {
      "text/plain": [
       "<re.Match object; span=(9, 15), match='number'>"
      ]
     },
     "execution_count": 57,
     "metadata": {},
     "output_type": "execute_result"
    }
   ],
   "source": [
    "import re\n",
    "re.search(\"number\",text)"
   ]
  },
  {
   "cell_type": "code",
   "execution_count": 58,
   "id": "40e6592a",
   "metadata": {},
   "outputs": [],
   "source": [
    "pattern = r'\\d{3}-\\d{3}-\\d{4}'"
   ]
  },
  {
   "cell_type": "code",
   "execution_count": 59,
   "id": "2ca14c7e",
   "metadata": {},
   "outputs": [],
   "source": [
    "num = re.finditer(r'\\d{3}-\\d{3}-\\d{4}', text)"
   ]
  },
  {
   "cell_type": "code",
   "execution_count": 60,
   "id": "704de191",
   "metadata": {},
   "outputs": [
    {
     "name": "stdout",
     "output_type": "stream",
     "text": [
      "400-555-1234\n",
      "400-555-2434\n"
     ]
    }
   ],
   "source": [
    "for i in num:\n",
    "    print(i.group())"
   ]
  },
  {
   "cell_type": "code",
   "execution_count": 73,
   "id": "f8e2b256",
   "metadata": {},
   "outputs": [],
   "source": [
    "num = re.findall(r'\\W\\S\\D', text)"
   ]
  },
  {
   "cell_type": "code",
   "execution_count": 74,
   "id": "f73f3a50",
   "metadata": {},
   "outputs": [
    {
     "data": {
      "text/plain": [
       "[' po',\n",
       " ' nu',\n",
       " ' is',\n",
       " ' of',\n",
       " ' th',\n",
       " ' th',\n",
       " ' ag',\n",
       " ' is',\n",
       " ' ca',\n",
       " ' me',\n",
       " ' so',\n",
       " ' on']"
      ]
     },
     "execution_count": 74,
     "metadata": {},
     "output_type": "execute_result"
    }
   ],
   "source": [
    "num"
   ]
  },
  {
   "cell_type": "code",
   "execution_count": 50,
   "id": "22c6ec18",
   "metadata": {},
   "outputs": [],
   "source": [
    "s = re.search(r'\\d\\d\\d-\\d\\d\\d-\\d\\d\\d\\d',text)"
   ]
  },
  {
   "cell_type": "code",
   "execution_count": 18,
   "id": "a3220e8b",
   "metadata": {},
   "outputs": [
    {
     "ename": "AttributeError",
     "evalue": "'re.Match' object has no attribute 'match'",
     "output_type": "error",
     "traceback": [
      "\u001b[0;31m---------------------------------------------------------------------------\u001b[0m",
      "\u001b[0;31mAttributeError\u001b[0m                            Traceback (most recent call last)",
      "Input \u001b[0;32mIn [18]\u001b[0m, in \u001b[0;36m<cell line: 1>\u001b[0;34m()\u001b[0m\n\u001b[0;32m----> 1\u001b[0m \u001b[43ms\u001b[49m\u001b[38;5;241;43m.\u001b[39;49m\u001b[43mmatch\u001b[49m\n",
      "\u001b[0;31mAttributeError\u001b[0m: 're.Match' object has no attribute 'match'"
     ]
    }
   ],
   "source": [
    "s.match"
   ]
  },
  {
   "cell_type": "code",
   "execution_count": 19,
   "id": "dcb224a9",
   "metadata": {},
   "outputs": [
    {
     "name": "stderr",
     "output_type": "stream",
     "text": [
      "2022-08-20 13:25:17.633334: W tensorflow/stream_executor/platform/default/dso_loader.cc:64] Could not load dynamic library 'libcudart.so.11.0'; dlerror: libcudart.so.11.0: cannot open shared object file: No such file or directory\n",
      "2022-08-20 13:25:17.633605: I tensorflow/stream_executor/cuda/cudart_stub.cc:29] Ignore above cudart dlerror if you do not have a GPU set up on your machine.\n"
     ]
    }
   ],
   "source": [
    "import spacy"
   ]
  },
  {
   "cell_type": "code",
   "execution_count": 20,
   "id": "e416ebf6",
   "metadata": {},
   "outputs": [],
   "source": [
    "nlp = spacy.load('en_core_web_sm')"
   ]
  },
  {
   "cell_type": "code",
   "execution_count": null,
   "id": "75104602",
   "metadata": {},
   "outputs": [],
   "source": []
  }
 ],
 "metadata": {
  "kernelspec": {
   "display_name": "Python 3 (ipykernel)",
   "language": "python",
   "name": "python3"
  },
  "language_info": {
   "codemirror_mode": {
    "name": "ipython",
    "version": 3
   },
   "file_extension": ".py",
   "mimetype": "text/x-python",
   "name": "python",
   "nbconvert_exporter": "python",
   "pygments_lexer": "ipython3",
   "version": "3.9.12"
  }
 },
 "nbformat": 4,
 "nbformat_minor": 5
}
