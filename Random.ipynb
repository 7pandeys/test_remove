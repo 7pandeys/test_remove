{
 "cells": [
  {
   "cell_type": "markdown",
   "id": "ec47beb3",
   "metadata": {},
   "source": [
    "#### Progress bar"
   ]
  },
  {
   "cell_type": "code",
   "execution_count": 2,
   "id": "85c72efe",
   "metadata": {},
   "outputs": [
    {
     "name": "stderr",
     "output_type": "stream",
     "text": [
      "100%|█████████████████████████████████████| 10/10 [00:30<00:00,  3.01s/it]\n"
     ]
    }
   ],
   "source": [
    "from time import sleep\n",
    "from tqdm import tqdm\n",
    "for i in tqdm(range(10)):\n",
    "    sleep(3)"
   ]
  },
  {
   "cell_type": "code",
   "execution_count": 3,
   "id": "a40e097d",
   "metadata": {},
   "outputs": [
    {
     "data": {
      "application/vnd.jupyter.widget-view+json": {
       "model_id": "5fd56881f1d047979854927a536f01e2",
       "version_major": 2,
       "version_minor": 0
      },
      "text/plain": [
       "Loading...:   0%|          | 0/5 [00:00<?, ?it/s]"
      ]
     },
     "metadata": {},
     "output_type": "display_data"
    }
   ],
   "source": [
    "# %%timeit\n",
    "from tqdm.notebook import tqdm\n",
    "for i in tqdm(range(5), desc = \"Loading...\"):\n",
    "    sleep(3)\n",
    "#     sleep(4)\n",
    "#     print(i)"
   ]
  },
  {
   "cell_type": "code",
   "execution_count": 46,
   "id": "9e6b3c45",
   "metadata": {},
   "outputs": [
    {
     "name": "stdout",
     "output_type": "stream",
     "text": [
      "ok\n",
      "CPU times: user 314 µs, sys: 60 µs, total: 374 µs\n",
      "Wall time: 269 µs\n"
     ]
    }
   ],
   "source": [
    "%%time\n",
    "print('ok')"
   ]
  },
  {
   "cell_type": "code",
   "execution_count": 44,
   "id": "a6becf60",
   "metadata": {},
   "outputs": [
    {
     "data": {
      "text/plain": [
       "tqdm.notebook.tqdm_notebook"
      ]
     },
     "execution_count": 44,
     "metadata": {},
     "output_type": "execute_result"
    }
   ],
   "source": [
    "tqdm"
   ]
  },
  {
   "cell_type": "code",
   "execution_count": 4,
   "id": "db1527a7",
   "metadata": {},
   "outputs": [],
   "source": [
    "import pandas as pd"
   ]
  },
  {
   "cell_type": "code",
   "execution_count": 29,
   "id": "ebd1023b",
   "metadata": {},
   "outputs": [],
   "source": [
    "d = {'a':['1','2','3'], 'b':['4','5','6']}"
   ]
  },
  {
   "cell_type": "code",
   "execution_count": 30,
   "id": "3d22fffd",
   "metadata": {},
   "outputs": [
    {
     "name": "stdout",
     "output_type": "stream",
     "text": [
      "('a', ['1', '2', '3'])\n",
      "('b', ['4', '5', '6'])\n"
     ]
    }
   ],
   "source": [
    "for i in d.items():\n",
    "    print(i)"
   ]
  },
  {
   "cell_type": "code",
   "execution_count": 31,
   "id": "80caed69",
   "metadata": {},
   "outputs": [],
   "source": [
    "df = pd.DataFrame(d)"
   ]
  },
  {
   "cell_type": "code",
   "execution_count": 32,
   "id": "84ad261a",
   "metadata": {},
   "outputs": [],
   "source": [
    "df.columns=['Col1', 'Col2']"
   ]
  },
  {
   "cell_type": "code",
   "execution_count": 33,
   "id": "da3bf250",
   "metadata": {},
   "outputs": [],
   "source": [
    "df.index = [1,2,4]"
   ]
  },
  {
   "cell_type": "code",
   "execution_count": 34,
   "id": "927eccae",
   "metadata": {},
   "outputs": [
    {
     "data": {
      "text/html": [
       "<div>\n",
       "<style scoped>\n",
       "    .dataframe tbody tr th:only-of-type {\n",
       "        vertical-align: middle;\n",
       "    }\n",
       "\n",
       "    .dataframe tbody tr th {\n",
       "        vertical-align: top;\n",
       "    }\n",
       "\n",
       "    .dataframe thead th {\n",
       "        text-align: right;\n",
       "    }\n",
       "</style>\n",
       "<table border=\"1\" class=\"dataframe\">\n",
       "  <thead>\n",
       "    <tr style=\"text-align: right;\">\n",
       "      <th></th>\n",
       "      <th>Col1</th>\n",
       "      <th>Col2</th>\n",
       "    </tr>\n",
       "  </thead>\n",
       "  <tbody>\n",
       "    <tr>\n",
       "      <th>1</th>\n",
       "      <td>1</td>\n",
       "      <td>4</td>\n",
       "    </tr>\n",
       "    <tr>\n",
       "      <th>2</th>\n",
       "      <td>2</td>\n",
       "      <td>5</td>\n",
       "    </tr>\n",
       "    <tr>\n",
       "      <th>4</th>\n",
       "      <td>3</td>\n",
       "      <td>6</td>\n",
       "    </tr>\n",
       "  </tbody>\n",
       "</table>\n",
       "</div>"
      ],
      "text/plain": [
       "  Col1 Col2\n",
       "1    1    4\n",
       "2    2    5\n",
       "4    3    6"
      ]
     },
     "execution_count": 34,
     "metadata": {},
     "output_type": "execute_result"
    }
   ],
   "source": [
    "df"
   ]
  },
  {
   "cell_type": "code",
   "execution_count": 36,
   "id": "7517cc48",
   "metadata": {},
   "outputs": [
    {
     "data": {
      "text/plain": [
       "array([['1', '4'],\n",
       "       ['2', '5'],\n",
       "       ['3', '6']], dtype=object)"
      ]
     },
     "execution_count": 36,
     "metadata": {},
     "output_type": "execute_result"
    }
   ],
   "source": [
    "n1 = df.to_numpy()\n",
    "n1"
   ]
  },
  {
   "cell_type": "code",
   "execution_count": 14,
   "id": "a73264c2",
   "metadata": {},
   "outputs": [
    {
     "data": {
      "text/html": [
       "<div>\n",
       "<style scoped>\n",
       "    .dataframe tbody tr th:only-of-type {\n",
       "        vertical-align: middle;\n",
       "    }\n",
       "\n",
       "    .dataframe tbody tr th {\n",
       "        vertical-align: top;\n",
       "    }\n",
       "\n",
       "    .dataframe thead th {\n",
       "        text-align: right;\n",
       "    }\n",
       "</style>\n",
       "<table border=\"1\" class=\"dataframe\">\n",
       "  <thead>\n",
       "    <tr style=\"text-align: right;\">\n",
       "      <th></th>\n",
       "      <th>index</th>\n",
       "      <th>Col1</th>\n",
       "      <th>Col2</th>\n",
       "    </tr>\n",
       "  </thead>\n",
       "  <tbody>\n",
       "    <tr>\n",
       "      <th>0</th>\n",
       "      <td>1</td>\n",
       "      <td>1</td>\n",
       "      <td>4</td>\n",
       "    </tr>\n",
       "    <tr>\n",
       "      <th>1</th>\n",
       "      <td>2</td>\n",
       "      <td>2</td>\n",
       "      <td>5</td>\n",
       "    </tr>\n",
       "    <tr>\n",
       "      <th>2</th>\n",
       "      <td>4</td>\n",
       "      <td>3</td>\n",
       "      <td>6</td>\n",
       "    </tr>\n",
       "  </tbody>\n",
       "</table>\n",
       "</div>"
      ],
      "text/plain": [
       "   index  Col1  Col2\n",
       "0      1     1     4\n",
       "1      2     2     5\n",
       "2      4     3     6"
      ]
     },
     "execution_count": 14,
     "metadata": {},
     "output_type": "execute_result"
    }
   ],
   "source": [
    "df"
   ]
  },
  {
   "cell_type": "code",
   "execution_count": 37,
   "id": "b14f31fe",
   "metadata": {},
   "outputs": [],
   "source": [
    "s1 = 'I love NLP and techniques'\n",
    "s2 = 'I am learning computer vision'\n",
    "s3 = 'Kedro is my favorite topic'"
   ]
  },
  {
   "cell_type": "code",
   "execution_count": 39,
   "id": "ced4bb03",
   "metadata": {},
   "outputs": [],
   "source": [
    "d = {'s1': s1.split(\" \"),\n",
    "    's2': s2.split(\" \"),\n",
    "    's3': s3.split(\" \")}"
   ]
  },
  {
   "cell_type": "code",
   "execution_count": 40,
   "id": "2700648d",
   "metadata": {},
   "outputs": [
    {
     "data": {
      "text/plain": [
       "{'s1': ['I', 'love', 'NLP', 'and', 'techniques'],\n",
       " 's2': ['I', 'am', 'learning', 'computer', 'vision'],\n",
       " 's3': ['Kedro', 'is', 'my', 'favorite', 'topic']}"
      ]
     },
     "execution_count": 40,
     "metadata": {},
     "output_type": "execute_result"
    }
   ],
   "source": [
    "d"
   ]
  },
  {
   "cell_type": "code",
   "execution_count": 42,
   "id": "09f235b1",
   "metadata": {},
   "outputs": [],
   "source": [
    "df = pd.DataFrame(d)"
   ]
  },
  {
   "cell_type": "code",
   "execution_count": 60,
   "id": "ac63b770",
   "metadata": {},
   "outputs": [],
   "source": [
    "df.index = ['l1 l2 l3 l4 l5'.split()]"
   ]
  },
  {
   "cell_type": "code",
   "execution_count": 61,
   "id": "2b750a78",
   "metadata": {},
   "outputs": [
    {
     "data": {
      "text/html": [
       "<div>\n",
       "<style scoped>\n",
       "    .dataframe tbody tr th:only-of-type {\n",
       "        vertical-align: middle;\n",
       "    }\n",
       "\n",
       "    .dataframe tbody tr th {\n",
       "        vertical-align: top;\n",
       "    }\n",
       "\n",
       "    .dataframe thead th {\n",
       "        text-align: right;\n",
       "    }\n",
       "</style>\n",
       "<table border=\"1\" class=\"dataframe\">\n",
       "  <thead>\n",
       "    <tr style=\"text-align: right;\">\n",
       "      <th></th>\n",
       "      <th>s1</th>\n",
       "      <th>s2</th>\n",
       "      <th>s3</th>\n",
       "    </tr>\n",
       "  </thead>\n",
       "  <tbody>\n",
       "    <tr>\n",
       "      <th>l1</th>\n",
       "      <td>I</td>\n",
       "      <td>I</td>\n",
       "      <td>Kedro</td>\n",
       "    </tr>\n",
       "    <tr>\n",
       "      <th>l2</th>\n",
       "      <td>love</td>\n",
       "      <td>am</td>\n",
       "      <td>is</td>\n",
       "    </tr>\n",
       "    <tr>\n",
       "      <th>l3</th>\n",
       "      <td>NLP</td>\n",
       "      <td>learning</td>\n",
       "      <td>my</td>\n",
       "    </tr>\n",
       "    <tr>\n",
       "      <th>l4</th>\n",
       "      <td>and</td>\n",
       "      <td>computer</td>\n",
       "      <td>favorite</td>\n",
       "    </tr>\n",
       "    <tr>\n",
       "      <th>l5</th>\n",
       "      <td>techniques</td>\n",
       "      <td>vision</td>\n",
       "      <td>topic</td>\n",
       "    </tr>\n",
       "  </tbody>\n",
       "</table>\n",
       "</div>"
      ],
      "text/plain": [
       "            s1        s2        s3\n",
       "l1           I         I     Kedro\n",
       "l2        love        am        is\n",
       "l3         NLP  learning        my\n",
       "l4         and  computer  favorite\n",
       "l5  techniques    vision     topic"
      ]
     },
     "execution_count": 61,
     "metadata": {},
     "output_type": "execute_result"
    }
   ],
   "source": [
    "df"
   ]
  },
  {
   "cell_type": "code",
   "execution_count": 114,
   "id": "20270e2c",
   "metadata": {},
   "outputs": [
    {
     "data": {
      "text/plain": [
       "l2    love\n",
       "l3     NLP\n",
       "Name: s1, dtype: object"
      ]
     },
     "execution_count": 114,
     "metadata": {},
     "output_type": "execute_result"
    }
   ],
   "source": [
    "df.iloc[1:3,0-3]"
   ]
  },
  {
   "cell_type": "code",
   "execution_count": 106,
   "id": "3df1fffc",
   "metadata": {},
   "outputs": [
    {
     "data": {
      "text/html": [
       "<div>\n",
       "<style scoped>\n",
       "    .dataframe tbody tr th:only-of-type {\n",
       "        vertical-align: middle;\n",
       "    }\n",
       "\n",
       "    .dataframe tbody tr th {\n",
       "        vertical-align: top;\n",
       "    }\n",
       "\n",
       "    .dataframe thead th {\n",
       "        text-align: right;\n",
       "    }\n",
       "</style>\n",
       "<table border=\"1\" class=\"dataframe\">\n",
       "  <thead>\n",
       "    <tr style=\"text-align: right;\">\n",
       "      <th></th>\n",
       "      <th>s1</th>\n",
       "      <th>s2</th>\n",
       "    </tr>\n",
       "  </thead>\n",
       "  <tbody>\n",
       "    <tr>\n",
       "      <th>l2</th>\n",
       "      <td>love</td>\n",
       "      <td>am</td>\n",
       "    </tr>\n",
       "    <tr>\n",
       "      <th>l3</th>\n",
       "      <td>NLP</td>\n",
       "      <td>learning</td>\n",
       "    </tr>\n",
       "  </tbody>\n",
       "</table>\n",
       "</div>"
      ],
      "text/plain": [
       "      s1        s2\n",
       "l2  love        am\n",
       "l3   NLP  learning"
      ]
     },
     "execution_count": 106,
     "metadata": {},
     "output_type": "execute_result"
    }
   ],
   "source": [
    "df.loc[['l2','l3']][['s1','s2']]"
   ]
  },
  {
   "cell_type": "code",
   "execution_count": 115,
   "id": "dac8ddaf",
   "metadata": {},
   "outputs": [],
   "source": [
    "import re"
   ]
  },
  {
   "cell_type": "code",
   "execution_count": 116,
   "id": "79a0a74d",
   "metadata": {},
   "outputs": [
    {
     "data": {
      "text/plain": [
       "'I love NLP and techniques'"
      ]
     },
     "execution_count": 116,
     "metadata": {},
     "output_type": "execute_result"
    }
   ],
   "source": [
    "s1"
   ]
  },
  {
   "cell_type": "code",
   "execution_count": 118,
   "id": "59ccdfeb",
   "metadata": {},
   "outputs": [
    {
     "data": {
      "text/plain": [
       "['', ' ', ' ', ' ', ' ', '']"
      ]
     },
     "execution_count": 118,
     "metadata": {},
     "output_type": "execute_result"
    }
   ],
   "source": [
    "re.split('\\w+',s1)"
   ]
  },
  {
   "cell_type": "code",
   "execution_count": 119,
   "id": "d8d512ff",
   "metadata": {},
   "outputs": [
    {
     "data": {
      "text/plain": [
       "['I', 'love', 'NLP', 'and', 'techniques']"
      ]
     },
     "execution_count": 119,
     "metadata": {},
     "output_type": "execute_result"
    }
   ],
   "source": [
    "re.split('\\W+',s1)"
   ]
  },
  {
   "cell_type": "code",
   "execution_count": 120,
   "id": "006ea6c2",
   "metadata": {},
   "outputs": [
    {
     "data": {
      "text/plain": [
       "['', ' ', ' ', ' ', ' ', '']"
      ]
     },
     "execution_count": 120,
     "metadata": {},
     "output_type": "execute_result"
    }
   ],
   "source": [
    "re.split('\\S+',s1)"
   ]
  },
  {
   "cell_type": "code",
   "execution_count": 121,
   "id": "b3964552",
   "metadata": {},
   "outputs": [
    {
     "data": {
      "text/plain": [
       "['I', 'love', 'NLP', 'and', 'techniques']"
      ]
     },
     "execution_count": 121,
     "metadata": {},
     "output_type": "execute_result"
    }
   ],
   "source": [
    "re.split('\\s+',s1)"
   ]
  },
  {
   "cell_type": "markdown",
   "id": "3ab03ec4",
   "metadata": {},
   "source": [
    "#### Decorators"
   ]
  },
  {
   "cell_type": "markdown",
   "id": "85464c64",
   "metadata": {},
   "source": [
    "###### without parameter"
   ]
  },
  {
   "cell_type": "code",
   "execution_count": 122,
   "id": "13909bda",
   "metadata": {},
   "outputs": [
    {
     "name": "stdout",
     "output_type": "stream",
     "text": [
      "1+1\n",
      "The result of 1+1 is 2\n"
     ]
    }
   ],
   "source": [
    "def another_function(func):\n",
    "    \"\"\"\n",
    "    A function that accepts another function\n",
    "    \"\"\"\n",
    "\n",
    "    def other_func():\n",
    "        val = \"The result of %s is %s\" % (func(),\n",
    "                                          eval(func())\n",
    "                                          )\n",
    "        return val\n",
    "    return other_func\n",
    "\n",
    "def a_function():\n",
    "    \"\"\"A pretty useless function\"\"\"\n",
    "    return \"1+1\"\n",
    "\n",
    "if __name__ == \"__main__\":\n",
    "    value = a_function()\n",
    "    print(value)\n",
    "    decorator = another_function(a_function)\n",
    "    print(decorator())"
   ]
  },
  {
   "cell_type": "markdown",
   "id": "3b6c7da0",
   "metadata": {},
   "source": [
    "###### with parameter"
   ]
  },
  {
   "cell_type": "code",
   "execution_count": 148,
   "id": "84aad384",
   "metadata": {},
   "outputs": [
    {
     "name": "stdout",
     "output_type": "stream",
     "text": [
      "1+1\n",
      "The result of 1+1 is 2\n"
     ]
    }
   ],
   "source": [
    "def another_function(func):\n",
    "    \"\"\"\n",
    "    A function that accepts another function\n",
    "    \"\"\"\n",
    "\n",
    "    def other_func():\n",
    "        val = \"The result of %s is %s\" % (func(2),\n",
    "                                          eval(func(2))\n",
    "                                          )\n",
    "        return val\n",
    "    return other_func\n",
    "\n",
    "def a_function(a):\n",
    "    \"\"\"A pretty useless function\"\"\"\n",
    "    return \"1+1\"\n",
    "\n",
    "if __name__ == \"__main__\":\n",
    "    value = a_function(2)\n",
    "    print(value)\n",
    "    decorator = another_function(a_function)\n",
    "    print(decorator())"
   ]
  },
  {
   "cell_type": "markdown",
   "id": "978c40e9",
   "metadata": {},
   "source": [
    "### Alarm"
   ]
  },
  {
   "cell_type": "code",
   "execution_count": 6,
   "id": "67cbe287",
   "metadata": {},
   "outputs": [
    {
     "ename": "ModuleNotFoundError",
     "evalue": "No module named 'AppKit'",
     "output_type": "error",
     "traceback": [
      "\u001b[0;31m---------------------------------------------------------------------------\u001b[0m",
      "\u001b[0;31mModuleNotFoundError\u001b[0m                       Traceback (most recent call last)",
      "Input \u001b[0;32mIn [6]\u001b[0m, in \u001b[0;36m<cell line: 4>\u001b[0;34m()\u001b[0m\n\u001b[1;32m      2\u001b[0m \u001b[38;5;28;01mimport\u001b[39;00m \u001b[38;5;21;01mdatetime\u001b[39;00m\n\u001b[1;32m      3\u001b[0m \u001b[38;5;28;01mfrom\u001b[39;00m \u001b[38;5;21;01mplaysound\u001b[39;00m \u001b[38;5;28;01mimport\u001b[39;00m playsound\n\u001b[0;32m----> 4\u001b[0m \u001b[38;5;28;01mfrom\u001b[39;00m \u001b[38;5;21;01mAppKit\u001b[39;00m \u001b[38;5;28;01mimport\u001b[39;00m NSSound\n\u001b[1;32m      5\u001b[0m os\u001b[38;5;241m.\u001b[39m system(\u001b[38;5;124m'\u001b[39m\u001b[38;5;124mclear\u001b[39m\u001b[38;5;124m'\u001b[39m)\n\u001b[1;32m      6\u001b[0m alarmH \u001b[38;5;241m=\u001b[39m \u001b[38;5;28mint\u001b[39m(\u001b[38;5;28minput\u001b[39m(\u001b[38;5;124m\"\u001b[39m\u001b[38;5;124mWhat hour do you want the alarm to ring? \u001b[39m\u001b[38;5;124m\"\u001b[39m))\n",
      "\u001b[0;31mModuleNotFoundError\u001b[0m: No module named 'AppKit'"
     ]
    }
   ],
   "source": [
    "import os\n",
    "import datetime\n",
    "from playsound import playsound\n",
    "from AppKit import NSSound\n",
    "os. system('clear')\n",
    "alarmH = int(input(\"What hour do you want the alarm to ring? \"))\n",
    "alarmM = int(input(\"What minute do you want the alarm to ring? \"))\n",
    "amPm = str(input(\"am or pm? \"))\n",
    "os. system('clear')\n",
    "print(\"Waiting for alarm\",alarmH,alarmM,amPm)\n",
    "if (amPm == \"pm\"):\n",
    "        alarmH = alarmH + 12\n",
    "while(1 == 1):\n",
    "    if(alarmH == datetime.datetime.now().hour and\n",
    "        alarmM == datetime.datetime.now().minute) :\n",
    "        print(\"Time to wake up\")\n",
    "        playsound('/your/path/to/file/beep-07.mp3')\n",
    "        break"
   ]
  },
  {
   "cell_type": "code",
   "execution_count": 1,
   "id": "065cee38",
   "metadata": {},
   "outputs": [
    {
     "name": "stdout",
     "output_type": "stream",
     "text": [
      "Collecting AppKit\n",
      "  Using cached AppKit-0.2.8-py3-none-any.whl\n",
      "Collecting pygobject\n",
      "  Using cached PyGObject-3.42.2.tar.gz (719 kB)\n",
      "  Installing build dependencies ... \u001b[?25lerror\n",
      "\u001b[31m  ERROR: Command errored out with exit status 1:\n",
      "   command: /home/sandeep/anaconda3/bin/python /tmp/pip-standalone-pip-egq7a15y/__env_pip__.zip/pip install --ignore-installed --no-user --prefix /tmp/pip-build-env-gb66q3g1/overlay --no-warn-script-location --no-binary :none: --only-binary :none: -i https://pypi.org/simple -- setuptools wheel pycairo\n",
      "       cwd: None\n",
      "  Complete output (35 lines):\n",
      "  Collecting setuptools\n",
      "    Using cached setuptools-65.1.0-py3-none-any.whl (1.2 MB)\n",
      "  Collecting wheel\n",
      "    Using cached wheel-0.37.1-py2.py3-none-any.whl (35 kB)\n",
      "  Collecting pycairo\n",
      "    Using cached pycairo-1.21.0.tar.gz (340 kB)\n",
      "    Installing build dependencies: started\n",
      "    Installing build dependencies: finished with status 'done'\n",
      "    Getting requirements to build wheel: started\n",
      "    Getting requirements to build wheel: finished with status 'done'\n",
      "      Preparing wheel metadata: started\n",
      "      Preparing wheel metadata: finished with status 'done'\n",
      "  Building wheels for collected packages: pycairo\n",
      "    Building wheel for pycairo (PEP 517): started\n",
      "    Building wheel for pycairo (PEP 517): finished with status 'error'\n",
      "    ERROR: Command errored out with exit status 1:\n",
      "     command: /home/sandeep/anaconda3/bin/python /tmp/tmpcod06ddu_in_process.py build_wheel /tmp/tmpob0nervz\n",
      "         cwd: /tmp/pip-install-k2avvde1/pycairo_2ab8c5a779b544979128c7491685e419\n",
      "    Complete output (12 lines):\n",
      "    running bdist_wheel\n",
      "    running build\n",
      "    running build_py\n",
      "    creating build\n",
      "    creating build/lib.linux-x86_64-cpython-39\n",
      "    creating build/lib.linux-x86_64-cpython-39/cairo\n",
      "    copying cairo/__init__.py -> build/lib.linux-x86_64-cpython-39/cairo\n",
      "    copying cairo/__init__.pyi -> build/lib.linux-x86_64-cpython-39/cairo\n",
      "    copying cairo/py.typed -> build/lib.linux-x86_64-cpython-39/cairo\n",
      "    running build_ext\n",
      "    'pkg-config' not found.\n",
      "    Command ['pkg-config', '--print-errors', '--exists', 'cairo >= 1.15.10']\n",
      "    ----------------------------------------\n",
      "    ERROR: Failed building wheel for pycairo\n",
      "  Failed to build pycairo\n",
      "  ERROR: Could not build wheels for pycairo which use PEP 517 and cannot be installed directly\n",
      "  ----------------------------------------\u001b[0m\n",
      "\u001b[33mWARNING: Discarding https://files.pythonhosted.org/packages/fe/40/9afaeb8d3b453fb8596fcb6c7bc2b64e434868c91eda19955742778eff74/PyGObject-3.42.2.tar.gz#sha256=21524cef33100c8fd59dc135948b703d79d303e368ce71fa60521cc971cd8aa7 (from https://pypi.org/simple/pygobject/) (requires-python:>=3.6, <4). Command errored out with exit status 1: /home/sandeep/anaconda3/bin/python /tmp/pip-standalone-pip-egq7a15y/__env_pip__.zip/pip install --ignore-installed --no-user --prefix /tmp/pip-build-env-gb66q3g1/overlay --no-warn-script-location --no-binary :none: --only-binary :none: -i https://pypi.org/simple -- setuptools wheel pycairo Check the logs for full command output.\u001b[0m\n",
      "\u001b[?25h  Using cached PyGObject-3.42.1.tar.gz (718 kB)\n",
      "  Installing build dependencies ... \u001b[?25lerror\n",
      "\u001b[31m  ERROR: Command errored out with exit status 1:\n",
      "   command: /home/sandeep/anaconda3/bin/python /tmp/pip-standalone-pip-6evqqmm0/__env_pip__.zip/pip install --ignore-installed --no-user --prefix /tmp/pip-build-env-0iacxxeh/overlay --no-warn-script-location --no-binary :none: --only-binary :none: -i https://pypi.org/simple -- setuptools wheel pycairo\n",
      "       cwd: None\n",
      "  Complete output (35 lines):\n",
      "  Collecting setuptools\n",
      "    Using cached setuptools-65.1.0-py3-none-any.whl (1.2 MB)\n",
      "  Collecting wheel\n",
      "    Using cached wheel-0.37.1-py2.py3-none-any.whl (35 kB)\n",
      "  Collecting pycairo\n",
      "    Using cached pycairo-1.21.0.tar.gz (340 kB)\n",
      "    Installing build dependencies: started\n",
      "    Installing build dependencies: finished with status 'done'\n",
      "    Getting requirements to build wheel: started\n",
      "    Getting requirements to build wheel: finished with status 'done'\n",
      "      Preparing wheel metadata: started\n",
      "      Preparing wheel metadata: finished with status 'done'\n",
      "  Building wheels for collected packages: pycairo\n",
      "    Building wheel for pycairo (PEP 517): started\n",
      "    Building wheel for pycairo (PEP 517): finished with status 'error'\n",
      "    ERROR: Command errored out with exit status 1:\n",
      "     command: /home/sandeep/anaconda3/bin/python /tmp/tmp_nvm5r6d_in_process.py build_wheel /tmp/tmpv8caitlz\n",
      "         cwd: /tmp/pip-install-r8g139ju/pycairo_b2f6bd99aed34123aa2653cc6a63e2f5\n",
      "    Complete output (12 lines):\n",
      "    running bdist_wheel\n",
      "    running build\n",
      "    running build_py\n",
      "    creating build\n",
      "    creating build/lib.linux-x86_64-cpython-39\n",
      "    creating build/lib.linux-x86_64-cpython-39/cairo\n",
      "    copying cairo/__init__.py -> build/lib.linux-x86_64-cpython-39/cairo\n",
      "    copying cairo/__init__.pyi -> build/lib.linux-x86_64-cpython-39/cairo\n",
      "    copying cairo/py.typed -> build/lib.linux-x86_64-cpython-39/cairo\n",
      "    running build_ext\n",
      "    'pkg-config' not found.\n",
      "    Command ['pkg-config', '--print-errors', '--exists', 'cairo >= 1.15.10']\n",
      "    ----------------------------------------\n",
      "    ERROR: Failed building wheel for pycairo\n",
      "  Failed to build pycairo\n",
      "  ERROR: Could not build wheels for pycairo which use PEP 517 and cannot be installed directly\n",
      "  ----------------------------------------\u001b[0m\n",
      "\u001b[33mWARNING: Discarding https://files.pythonhosted.org/packages/41/d0/7eaebdca0723b267b96a8b7de2743cc223fbb47f651346b3e9b768acf8dd/PyGObject-3.42.1.tar.gz#sha256=80d6a3ad1630e9d1edf31b9e9fad9a894c57e18545a3c95ef0044ac4042b8620 (from https://pypi.org/simple/pygobject/) (requires-python:>=3.6, <4). Command errored out with exit status 1: /home/sandeep/anaconda3/bin/python /tmp/pip-standalone-pip-6evqqmm0/__env_pip__.zip/pip install --ignore-installed --no-user --prefix /tmp/pip-build-env-0iacxxeh/overlay --no-warn-script-location --no-binary :none: --only-binary :none: -i https://pypi.org/simple -- setuptools wheel pycairo Check the logs for full command output.\u001b[0m\n",
      "\u001b[?25h  Using cached PyGObject-3.42.0.tar.gz (716 kB)\n",
      "  Installing build dependencies ... \u001b[?25lerror\n",
      "\u001b[31m  ERROR: Command errored out with exit status 1:\n",
      "   command: /home/sandeep/anaconda3/bin/python /tmp/pip-standalone-pip-lbds02c4/__env_pip__.zip/pip install --ignore-installed --no-user --prefix /tmp/pip-build-env-_go6g3n5/overlay --no-warn-script-location --no-binary :none: --only-binary :none: -i https://pypi.org/simple -- setuptools wheel pycairo\n",
      "       cwd: None\n",
      "  Complete output (35 lines):\n",
      "  Collecting setuptools\n",
      "    Using cached setuptools-65.1.0-py3-none-any.whl (1.2 MB)\n",
      "  Collecting wheel\n",
      "    Using cached wheel-0.37.1-py2.py3-none-any.whl (35 kB)\n",
      "  Collecting pycairo\n",
      "    Using cached pycairo-1.21.0.tar.gz (340 kB)\n",
      "    Installing build dependencies: started\n",
      "    Installing build dependencies: finished with status 'done'\n",
      "    Getting requirements to build wheel: started\n",
      "    Getting requirements to build wheel: finished with status 'done'\n",
      "      Preparing wheel metadata: started\n",
      "      Preparing wheel metadata: finished with status 'done'\n",
      "  Building wheels for collected packages: pycairo\n",
      "    Building wheel for pycairo (PEP 517): started\n",
      "    Building wheel for pycairo (PEP 517): finished with status 'error'\n",
      "    ERROR: Command errored out with exit status 1:\n",
      "     command: /home/sandeep/anaconda3/bin/python /tmp/tmphqo5vu73_in_process.py build_wheel /tmp/tmpz2si6b9k\n",
      "         cwd: /tmp/pip-install-gf_82vs6/pycairo_06d694e6c70141e1a2fc9478bc57537f\n",
      "    Complete output (12 lines):\n",
      "    running bdist_wheel\n",
      "    running build\n",
      "    running build_py\n",
      "    creating build\n",
      "    creating build/lib.linux-x86_64-cpython-39\n",
      "    creating build/lib.linux-x86_64-cpython-39/cairo\n",
      "    copying cairo/__init__.py -> build/lib.linux-x86_64-cpython-39/cairo\n",
      "    copying cairo/__init__.pyi -> build/lib.linux-x86_64-cpython-39/cairo\n",
      "    copying cairo/py.typed -> build/lib.linux-x86_64-cpython-39/cairo\n",
      "    running build_ext\n",
      "    'pkg-config' not found.\n",
      "    Command ['pkg-config', '--print-errors', '--exists', 'cairo >= 1.15.10']\n",
      "    ----------------------------------------\n",
      "    ERROR: Failed building wheel for pycairo\n",
      "  Failed to build pycairo\n",
      "  ERROR: Could not build wheels for pycairo which use PEP 517 and cannot be installed directly\n",
      "  ----------------------------------------\u001b[0m\n",
      "\u001b[33mWARNING: Discarding https://files.pythonhosted.org/packages/cc/72/48cfdd7a0caf3c27f392d2657731ac6f7c3c1c0a60bfeba3e1ba9ffa7ba9/PyGObject-3.42.0.tar.gz#sha256=b9803991ec0b0b4175e81fee0ad46090fa7af438fe169348a9b18ae53447afcd (from https://pypi.org/simple/pygobject/) (requires-python:>=3.6, <4). Command errored out with exit status 1: /home/sandeep/anaconda3/bin/python /tmp/pip-standalone-pip-lbds02c4/__env_pip__.zip/pip install --ignore-installed --no-user --prefix /tmp/pip-build-env-_go6g3n5/overlay --no-warn-script-location --no-binary :none: --only-binary :none: -i https://pypi.org/simple -- setuptools wheel pycairo Check the logs for full command output.\u001b[0m\n"
     ]
    },
    {
     "name": "stdout",
     "output_type": "stream",
     "text": [
      "\u001b[?25h  Using cached PyGObject-3.40.1.tar.gz (714 kB)\n",
      "  Installing build dependencies ... \u001b[?25lerror\n",
      "\u001b[31m  ERROR: Command errored out with exit status 1:\n",
      "   command: /home/sandeep/anaconda3/bin/python /tmp/pip-standalone-pip-gr0wqlzu/__env_pip__.zip/pip install --ignore-installed --no-user --prefix /tmp/pip-build-env-81jkmjcj/overlay --no-warn-script-location --no-binary :none: --only-binary :none: -i https://pypi.org/simple -- setuptools wheel pycairo\n",
      "       cwd: None\n",
      "  Complete output (35 lines):\n",
      "  Collecting setuptools\n",
      "    Using cached setuptools-65.1.0-py3-none-any.whl (1.2 MB)\n",
      "  Collecting wheel\n",
      "    Using cached wheel-0.37.1-py2.py3-none-any.whl (35 kB)\n",
      "  Collecting pycairo\n",
      "    Using cached pycairo-1.21.0.tar.gz (340 kB)\n",
      "    Installing build dependencies: started\n",
      "    Installing build dependencies: finished with status 'done'\n",
      "    Getting requirements to build wheel: started\n",
      "    Getting requirements to build wheel: finished with status 'done'\n",
      "      Preparing wheel metadata: started\n",
      "      Preparing wheel metadata: finished with status 'done'\n",
      "  Building wheels for collected packages: pycairo\n",
      "    Building wheel for pycairo (PEP 517): started\n",
      "    Building wheel for pycairo (PEP 517): finished with status 'error'\n",
      "    ERROR: Command errored out with exit status 1:\n",
      "     command: /home/sandeep/anaconda3/bin/python /tmp/tmpeus6xr2z_in_process.py build_wheel /tmp/tmp2x2f1sx2\n",
      "         cwd: /tmp/pip-install-2glekqy0/pycairo_2e47435b8dc34a3d94be3e8e78bd2d56\n",
      "    Complete output (12 lines):\n",
      "    running bdist_wheel\n",
      "    running build\n",
      "    running build_py\n",
      "    creating build\n",
      "    creating build/lib.linux-x86_64-cpython-39\n",
      "    creating build/lib.linux-x86_64-cpython-39/cairo\n",
      "    copying cairo/__init__.py -> build/lib.linux-x86_64-cpython-39/cairo\n",
      "    copying cairo/__init__.pyi -> build/lib.linux-x86_64-cpython-39/cairo\n",
      "    copying cairo/py.typed -> build/lib.linux-x86_64-cpython-39/cairo\n",
      "    running build_ext\n",
      "    'pkg-config' not found.\n",
      "    Command ['pkg-config', '--print-errors', '--exists', 'cairo >= 1.15.10']\n",
      "    ----------------------------------------\n",
      "    ERROR: Failed building wheel for pycairo\n",
      "  Failed to build pycairo\n",
      "  ERROR: Could not build wheels for pycairo which use PEP 517 and cannot be installed directly\n",
      "  ----------------------------------------\u001b[0m\n",
      "\u001b[33mWARNING: Discarding https://files.pythonhosted.org/packages/51/2f/4d5d5afb7000b9151e33952b59163c9389bd867ac6fe85d62f85831fa061/PyGObject-3.40.1.tar.gz#sha256=6fb599aa59ceb9dd05fafb0d72b3862943e7d5e85c8ef6c74856bc6d4321cbab (from https://pypi.org/simple/pygobject/) (requires-python:>=3.6, <4). Command errored out with exit status 1: /home/sandeep/anaconda3/bin/python /tmp/pip-standalone-pip-gr0wqlzu/__env_pip__.zip/pip install --ignore-installed --no-user --prefix /tmp/pip-build-env-81jkmjcj/overlay --no-warn-script-location --no-binary :none: --only-binary :none: -i https://pypi.org/simple -- setuptools wheel pycairo Check the logs for full command output.\u001b[0m\n",
      "\u001b[?25h  Using cached PyGObject-3.40.0.tar.gz (714 kB)\n",
      "  Installing build dependencies ... \u001b[?25lerror\n",
      "\u001b[31m  ERROR: Command errored out with exit status 1:\n",
      "   command: /home/sandeep/anaconda3/bin/python /tmp/pip-standalone-pip-77nr0z0f/__env_pip__.zip/pip install --ignore-installed --no-user --prefix /tmp/pip-build-env-n0fzy56g/overlay --no-warn-script-location --no-binary :none: --only-binary :none: -i https://pypi.org/simple -- setuptools wheel pycairo\n",
      "       cwd: None\n",
      "  Complete output (35 lines):\n",
      "  Collecting setuptools\n",
      "    Using cached setuptools-65.1.0-py3-none-any.whl (1.2 MB)\n",
      "  Collecting wheel\n",
      "    Using cached wheel-0.37.1-py2.py3-none-any.whl (35 kB)\n",
      "  Collecting pycairo\n",
      "    Using cached pycairo-1.21.0.tar.gz (340 kB)\n",
      "    Installing build dependencies: started\n",
      "    Installing build dependencies: finished with status 'done'\n",
      "    Getting requirements to build wheel: started\n",
      "    Getting requirements to build wheel: finished with status 'done'\n",
      "      Preparing wheel metadata: started\n",
      "      Preparing wheel metadata: finished with status 'done'\n",
      "  Building wheels for collected packages: pycairo\n",
      "    Building wheel for pycairo (PEP 517): started\n",
      "    Building wheel for pycairo (PEP 517): finished with status 'error'\n",
      "    ERROR: Command errored out with exit status 1:\n",
      "     command: /home/sandeep/anaconda3/bin/python /tmp/tmpb3sl6xht_in_process.py build_wheel /tmp/tmpxlgrpxv_\n",
      "         cwd: /tmp/pip-install-u9171z9m/pycairo_8050f56d81684b948566d5b8c9fa676f\n",
      "    Complete output (12 lines):\n",
      "    running bdist_wheel\n",
      "    running build\n",
      "    running build_py\n",
      "    creating build\n",
      "    creating build/lib.linux-x86_64-cpython-39\n",
      "    creating build/lib.linux-x86_64-cpython-39/cairo\n",
      "    copying cairo/__init__.py -> build/lib.linux-x86_64-cpython-39/cairo\n",
      "    copying cairo/__init__.pyi -> build/lib.linux-x86_64-cpython-39/cairo\n",
      "    copying cairo/py.typed -> build/lib.linux-x86_64-cpython-39/cairo\n",
      "    running build_ext\n",
      "    'pkg-config' not found.\n",
      "    Command ['pkg-config', '--print-errors', '--exists', 'cairo >= 1.15.10']\n",
      "    ----------------------------------------\n",
      "    ERROR: Failed building wheel for pycairo\n",
      "  Failed to build pycairo\n",
      "  ERROR: Could not build wheels for pycairo which use PEP 517 and cannot be installed directly\n",
      "  ----------------------------------------\u001b[0m\n",
      "\u001b[33mWARNING: Discarding https://files.pythonhosted.org/packages/a0/fa/0cfaa64ad7a4cd94fd74b698fcc8987ed780fce1651fecc6604f86f604cd/PyGObject-3.40.0.tar.gz#sha256=98d83f71e6313dadc29793450fec23b2eaa5c3f1c4b073d0a4f9c31b5cdb5fca (from https://pypi.org/simple/pygobject/) (requires-python:>=3.6, <4). Command errored out with exit status 1: /home/sandeep/anaconda3/bin/python /tmp/pip-standalone-pip-77nr0z0f/__env_pip__.zip/pip install --ignore-installed --no-user --prefix /tmp/pip-build-env-n0fzy56g/overlay --no-warn-script-location --no-binary :none: --only-binary :none: -i https://pypi.org/simple -- setuptools wheel pycairo Check the logs for full command output.\u001b[0m\n",
      "\u001b[?25h  Using cached PyGObject-3.38.0.tar.gz (712 kB)\n",
      "  Installing build dependencies ... \u001b[?25lerror\n",
      "\u001b[31m  ERROR: Command errored out with exit status 1:\n",
      "   command: /home/sandeep/anaconda3/bin/python /tmp/pip-standalone-pip-f1s9127l/__env_pip__.zip/pip install --ignore-installed --no-user --prefix /tmp/pip-build-env-sp1njzio/overlay --no-warn-script-location --no-binary :none: --only-binary :none: -i https://pypi.org/simple -- setuptools wheel pycairo\n",
      "       cwd: None\n",
      "  Complete output (35 lines):\n",
      "  Collecting setuptools\n",
      "    Using cached setuptools-65.1.0-py3-none-any.whl (1.2 MB)\n",
      "  Collecting wheel\n",
      "    Using cached wheel-0.37.1-py2.py3-none-any.whl (35 kB)\n",
      "  Collecting pycairo\n",
      "    Using cached pycairo-1.21.0.tar.gz (340 kB)\n",
      "    Installing build dependencies: started\n",
      "    Installing build dependencies: finished with status 'done'\n",
      "    Getting requirements to build wheel: started\n",
      "    Getting requirements to build wheel: finished with status 'done'\n",
      "      Preparing wheel metadata: started\n",
      "      Preparing wheel metadata: finished with status 'done'\n",
      "  Building wheels for collected packages: pycairo\n",
      "    Building wheel for pycairo (PEP 517): started\n",
      "    Building wheel for pycairo (PEP 517): finished with status 'error'\n",
      "    ERROR: Command errored out with exit status 1:\n",
      "     command: /home/sandeep/anaconda3/bin/python /tmp/tmpcimkmc9x_in_process.py build_wheel /tmp/tmp36p6kelx\n",
      "         cwd: /tmp/pip-install-02iwqft9/pycairo_0edad5896af549539f28e3491bcb3aaa\n",
      "    Complete output (12 lines):\n",
      "    running bdist_wheel\n",
      "    running build\n",
      "    running build_py\n",
      "    creating build\n",
      "    creating build/lib.linux-x86_64-cpython-39\n",
      "    creating build/lib.linux-x86_64-cpython-39/cairo\n",
      "    copying cairo/__init__.py -> build/lib.linux-x86_64-cpython-39/cairo\n",
      "    copying cairo/__init__.pyi -> build/lib.linux-x86_64-cpython-39/cairo\n",
      "    copying cairo/py.typed -> build/lib.linux-x86_64-cpython-39/cairo\n",
      "    running build_ext\n",
      "    'pkg-config' not found.\n",
      "    Command ['pkg-config', '--print-errors', '--exists', 'cairo >= 1.15.10']\n",
      "    ----------------------------------------\n",
      "    ERROR: Failed building wheel for pycairo\n",
      "  Failed to build pycairo\n",
      "  ERROR: Could not build wheels for pycairo which use PEP 517 and cannot be installed directly\n",
      "  ----------------------------------------\u001b[0m\n",
      "\u001b[33mWARNING: Discarding https://files.pythonhosted.org/packages/3a/a7/de282a4aaedba59d60a895a7821e6497b39cbdfa94a352776ff45ffc6e6f/PyGObject-3.38.0.tar.gz#sha256=051b950f509f2e9f125add96c1493bde987c527f7a0c15a1f7b69d6d1c3cd8e6 (from https://pypi.org/simple/pygobject/) (requires-python:>=3.5, <4). Command errored out with exit status 1: /home/sandeep/anaconda3/bin/python /tmp/pip-standalone-pip-f1s9127l/__env_pip__.zip/pip install --ignore-installed --no-user --prefix /tmp/pip-build-env-sp1njzio/overlay --no-warn-script-location --no-binary :none: --only-binary :none: -i https://pypi.org/simple -- setuptools wheel pycairo Check the logs for full command output.\u001b[0m\n"
     ]
    },
    {
     "name": "stdout",
     "output_type": "stream",
     "text": [
      "\u001b[?25h  Using cached PyGObject-3.36.1.tar.gz (716 kB)\n",
      "  Installing build dependencies ... \u001b[?25lerror\n",
      "\u001b[31m  ERROR: Command errored out with exit status 1:\n",
      "   command: /home/sandeep/anaconda3/bin/python /tmp/pip-standalone-pip-l3eol1uo/__env_pip__.zip/pip install --ignore-installed --no-user --prefix /tmp/pip-build-env-swmzd8zj/overlay --no-warn-script-location --no-binary :none: --only-binary :none: -i https://pypi.org/simple -- setuptools wheel pycairo\n",
      "       cwd: None\n",
      "  Complete output (35 lines):\n",
      "  Collecting setuptools\n",
      "    Using cached setuptools-65.1.0-py3-none-any.whl (1.2 MB)\n",
      "  Collecting wheel\n",
      "    Using cached wheel-0.37.1-py2.py3-none-any.whl (35 kB)\n",
      "  Collecting pycairo\n",
      "    Using cached pycairo-1.21.0.tar.gz (340 kB)\n",
      "    Installing build dependencies: started\n",
      "    Installing build dependencies: finished with status 'done'\n",
      "    Getting requirements to build wheel: started\n",
      "    Getting requirements to build wheel: finished with status 'done'\n",
      "      Preparing wheel metadata: started\n",
      "      Preparing wheel metadata: finished with status 'done'\n",
      "  Building wheels for collected packages: pycairo\n",
      "    Building wheel for pycairo (PEP 517): started\n",
      "    Building wheel for pycairo (PEP 517): finished with status 'error'\n",
      "    ERROR: Command errored out with exit status 1:\n",
      "     command: /home/sandeep/anaconda3/bin/python /tmp/tmphe76n6ge_in_process.py build_wheel /tmp/tmpfxmf_t1i\n",
      "         cwd: /tmp/pip-install-d0_b5oh0/pycairo_ab8dd347290a4deaa4e389411d215bad\n",
      "    Complete output (12 lines):\n",
      "    running bdist_wheel\n",
      "    running build\n",
      "    running build_py\n",
      "    creating build\n",
      "    creating build/lib.linux-x86_64-cpython-39\n",
      "    creating build/lib.linux-x86_64-cpython-39/cairo\n",
      "    copying cairo/__init__.py -> build/lib.linux-x86_64-cpython-39/cairo\n",
      "    copying cairo/__init__.pyi -> build/lib.linux-x86_64-cpython-39/cairo\n",
      "    copying cairo/py.typed -> build/lib.linux-x86_64-cpython-39/cairo\n",
      "    running build_ext\n",
      "    'pkg-config' not found.\n",
      "    Command ['pkg-config', '--print-errors', '--exists', 'cairo >= 1.15.10']\n",
      "    ----------------------------------------\n",
      "    ERROR: Failed building wheel for pycairo\n",
      "  Failed to build pycairo\n",
      "  ERROR: Could not build wheels for pycairo which use PEP 517 and cannot be installed directly\n",
      "  ----------------------------------------\u001b[0m\n",
      "\u001b[33mWARNING: Discarding https://files.pythonhosted.org/packages/93/41/bf9ab8929f51dac2979ae81bb094728bacee3ceb049def72d3fc1bcb4241/PyGObject-3.36.1.tar.gz#sha256=012a589aec687bfa809a1ff9f5cd775dc7f6fcec1a6bc7fe88e1002a68f8ba34 (from https://pypi.org/simple/pygobject/) (requires-python:>=2.7, !=3.0.*, !=3.1.*, !=3.2.*, !=3.3.*, !=3.4.*, <4). Command errored out with exit status 1: /home/sandeep/anaconda3/bin/python /tmp/pip-standalone-pip-l3eol1uo/__env_pip__.zip/pip install --ignore-installed --no-user --prefix /tmp/pip-build-env-swmzd8zj/overlay --no-warn-script-location --no-binary :none: --only-binary :none: -i https://pypi.org/simple -- setuptools wheel pycairo Check the logs for full command output.\u001b[0m\n",
      "\u001b[?25h  Using cached PyGObject-3.36.0.tar.gz (714 kB)\n",
      "  Installing build dependencies ... \u001b[?25lerror\n",
      "\u001b[31m  ERROR: Command errored out with exit status 1:\n",
      "   command: /home/sandeep/anaconda3/bin/python /tmp/pip-standalone-pip-025jvf_a/__env_pip__.zip/pip install --ignore-installed --no-user --prefix /tmp/pip-build-env-d95dsvkm/overlay --no-warn-script-location --no-binary :none: --only-binary :none: -i https://pypi.org/simple -- setuptools wheel pycairo\n",
      "       cwd: None\n",
      "  Complete output (35 lines):\n",
      "  Collecting setuptools\n",
      "    Using cached setuptools-65.1.0-py3-none-any.whl (1.2 MB)\n",
      "  Collecting wheel\n",
      "    Using cached wheel-0.37.1-py2.py3-none-any.whl (35 kB)\n",
      "  Collecting pycairo\n",
      "    Using cached pycairo-1.21.0.tar.gz (340 kB)\n",
      "    Installing build dependencies: started\n",
      "    Installing build dependencies: finished with status 'done'\n",
      "    Getting requirements to build wheel: started\n",
      "    Getting requirements to build wheel: finished with status 'done'\n",
      "      Preparing wheel metadata: started\n",
      "      Preparing wheel metadata: finished with status 'done'\n",
      "  Building wheels for collected packages: pycairo\n",
      "    Building wheel for pycairo (PEP 517): started\n",
      "    Building wheel for pycairo (PEP 517): finished with status 'error'\n",
      "    ERROR: Command errored out with exit status 1:\n",
      "     command: /home/sandeep/anaconda3/bin/python /tmp/tmpsaocru4e_in_process.py build_wheel /tmp/tmp7jvx7zg5\n",
      "         cwd: /tmp/pip-install-dvewszem/pycairo_98a6aa81c45a4a71a945adf3d6d5d852\n",
      "    Complete output (12 lines):\n",
      "    running bdist_wheel\n",
      "    running build\n",
      "    running build_py\n",
      "    creating build\n",
      "    creating build/lib.linux-x86_64-cpython-39\n",
      "    creating build/lib.linux-x86_64-cpython-39/cairo\n",
      "    copying cairo/__init__.py -> build/lib.linux-x86_64-cpython-39/cairo\n",
      "    copying cairo/__init__.pyi -> build/lib.linux-x86_64-cpython-39/cairo\n",
      "    copying cairo/py.typed -> build/lib.linux-x86_64-cpython-39/cairo\n",
      "    running build_ext\n",
      "    'pkg-config' not found.\n",
      "    Command ['pkg-config', '--print-errors', '--exists', 'cairo >= 1.15.10']\n",
      "    ----------------------------------------\n",
      "    ERROR: Failed building wheel for pycairo\n",
      "  Failed to build pycairo\n",
      "  ERROR: Could not build wheels for pycairo which use PEP 517 and cannot be installed directly\n",
      "  ----------------------------------------\u001b[0m\n",
      "\u001b[33mWARNING: Discarding https://files.pythonhosted.org/packages/3e/b5/f4fd3351ed074aeeae30bff71428f38bc42187e34c44913239a9dc85a7fc/PyGObject-3.36.0.tar.gz#sha256=b97f570e55017fcd3732164811f24ecf63983a4834f61b55b0aaf64ecefac856 (from https://pypi.org/simple/pygobject/) (requires-python:>=2.7, !=3.0.*, !=3.1.*, !=3.2.*, !=3.3.*, !=3.4.*, <4). Command errored out with exit status 1: /home/sandeep/anaconda3/bin/python /tmp/pip-standalone-pip-025jvf_a/__env_pip__.zip/pip install --ignore-installed --no-user --prefix /tmp/pip-build-env-d95dsvkm/overlay --no-warn-script-location --no-binary :none: --only-binary :none: -i https://pypi.org/simple -- setuptools wheel pycairo Check the logs for full command output.\u001b[0m\n",
      "\u001b[?25h  Using cached PyGObject-3.34.0.tar.gz (699 kB)\n",
      "  Installing build dependencies ... \u001b[?25lerror\n",
      "\u001b[31m  ERROR: Command errored out with exit status 1:\n",
      "   command: /home/sandeep/anaconda3/bin/python /tmp/pip-standalone-pip-tmuwpqqb/__env_pip__.zip/pip install --ignore-installed --no-user --prefix /tmp/pip-build-env-7nqhavom/overlay --no-warn-script-location --no-binary :none: --only-binary :none: -i https://pypi.org/simple -- setuptools wheel pycairo\n",
      "       cwd: None\n",
      "  Complete output (35 lines):\n",
      "  Collecting setuptools\n",
      "    Using cached setuptools-65.1.0-py3-none-any.whl (1.2 MB)\n",
      "  Collecting wheel\n",
      "    Using cached wheel-0.37.1-py2.py3-none-any.whl (35 kB)\n",
      "  Collecting pycairo\n",
      "    Using cached pycairo-1.21.0.tar.gz (340 kB)\n",
      "    Installing build dependencies: started\n",
      "    Installing build dependencies: finished with status 'done'\n",
      "    Getting requirements to build wheel: started\n",
      "    Getting requirements to build wheel: finished with status 'done'\n",
      "      Preparing wheel metadata: started\n",
      "      Preparing wheel metadata: finished with status 'done'\n",
      "  Building wheels for collected packages: pycairo\n",
      "    Building wheel for pycairo (PEP 517): started\n",
      "    Building wheel for pycairo (PEP 517): finished with status 'error'\n",
      "    ERROR: Command errored out with exit status 1:\n",
      "     command: /home/sandeep/anaconda3/bin/python /tmp/tmpmczs0tci_in_process.py build_wheel /tmp/tmpdlz8yey3\n",
      "         cwd: /tmp/pip-install-dq7gljpv/pycairo_c85076de663f4b538b66a3706720bfe1\n",
      "    Complete output (12 lines):\n",
      "    running bdist_wheel\n",
      "    running build\n",
      "    running build_py\n",
      "    creating build\n",
      "    creating build/lib.linux-x86_64-cpython-39\n",
      "    creating build/lib.linux-x86_64-cpython-39/cairo\n",
      "    copying cairo/__init__.py -> build/lib.linux-x86_64-cpython-39/cairo\n",
      "    copying cairo/__init__.pyi -> build/lib.linux-x86_64-cpython-39/cairo\n",
      "    copying cairo/py.typed -> build/lib.linux-x86_64-cpython-39/cairo\n",
      "    running build_ext\n",
      "    'pkg-config' not found.\n",
      "    Command ['pkg-config', '--print-errors', '--exists', 'cairo >= 1.15.10']\n",
      "    ----------------------------------------\n",
      "    ERROR: Failed building wheel for pycairo\n",
      "  Failed to build pycairo\n",
      "  ERROR: Could not build wheels for pycairo which use PEP 517 and cannot be installed directly\n",
      "  ----------------------------------------\u001b[0m\n",
      "\u001b[33mWARNING: Discarding https://files.pythonhosted.org/packages/46/8a/b183f3edc812d4d28c8b671a922b5bc2863be5d38c56b3ad9155815e78dd/PyGObject-3.34.0.tar.gz#sha256=2acb0daf2b3a23a90f52066cc23d1053339fee2f5f7f4275f8baa3704ae0c543 (from https://pypi.org/simple/pygobject/) (requires-python:>=2.7, !=3.0.*, !=3.1.*, !=3.2.*, !=3.3.*, !=3.4.*, <4). Command errored out with exit status 1: /home/sandeep/anaconda3/bin/python /tmp/pip-standalone-pip-tmuwpqqb/__env_pip__.zip/pip install --ignore-installed --no-user --prefix /tmp/pip-build-env-7nqhavom/overlay --no-warn-script-location --no-binary :none: --only-binary :none: -i https://pypi.org/simple -- setuptools wheel pycairo Check the logs for full command output.\u001b[0m\n"
     ]
    },
    {
     "name": "stdout",
     "output_type": "stream",
     "text": [
      "\u001b[?25h  Using cached PyGObject-3.32.2.tar.gz (698 kB)\n",
      "  Installing build dependencies ... \u001b[?25lerror\n",
      "\u001b[31m  ERROR: Command errored out with exit status 1:\n",
      "   command: /home/sandeep/anaconda3/bin/python /tmp/pip-standalone-pip-4jmd3668/__env_pip__.zip/pip install --ignore-installed --no-user --prefix /tmp/pip-build-env-4k238v20/overlay --no-warn-script-location --no-binary :none: --only-binary :none: -i https://pypi.org/simple -- setuptools wheel pycairo\n",
      "       cwd: None\n",
      "  Complete output (35 lines):\n",
      "  Collecting setuptools\n",
      "    Using cached setuptools-65.1.0-py3-none-any.whl (1.2 MB)\n",
      "  Collecting wheel\n",
      "    Using cached wheel-0.37.1-py2.py3-none-any.whl (35 kB)\n",
      "  Collecting pycairo\n",
      "    Using cached pycairo-1.21.0.tar.gz (340 kB)\n",
      "    Installing build dependencies: started\n",
      "    Installing build dependencies: finished with status 'done'\n",
      "    Getting requirements to build wheel: started\n",
      "    Getting requirements to build wheel: finished with status 'done'\n",
      "      Preparing wheel metadata: started\n",
      "      Preparing wheel metadata: finished with status 'done'\n",
      "  Building wheels for collected packages: pycairo\n",
      "    Building wheel for pycairo (PEP 517): started\n",
      "    Building wheel for pycairo (PEP 517): finished with status 'error'\n",
      "    ERROR: Command errored out with exit status 1:\n",
      "     command: /home/sandeep/anaconda3/bin/python /tmp/tmp0rifpqy9_in_process.py build_wheel /tmp/tmp_d30tbwa\n",
      "         cwd: /tmp/pip-install-e7t8cqxy/pycairo_16c2f9f8e0854987aabf9804868663a5\n",
      "    Complete output (12 lines):\n",
      "    running bdist_wheel\n",
      "    running build\n",
      "    running build_py\n",
      "    creating build\n",
      "    creating build/lib.linux-x86_64-cpython-39\n",
      "    creating build/lib.linux-x86_64-cpython-39/cairo\n",
      "    copying cairo/__init__.py -> build/lib.linux-x86_64-cpython-39/cairo\n",
      "    copying cairo/__init__.pyi -> build/lib.linux-x86_64-cpython-39/cairo\n",
      "    copying cairo/py.typed -> build/lib.linux-x86_64-cpython-39/cairo\n",
      "    running build_ext\n",
      "    'pkg-config' not found.\n",
      "    Command ['pkg-config', '--print-errors', '--exists', 'cairo >= 1.15.10']\n",
      "    ----------------------------------------\n",
      "    ERROR: Failed building wheel for pycairo\n",
      "  Failed to build pycairo\n",
      "  ERROR: Could not build wheels for pycairo which use PEP 517 and cannot be installed directly\n",
      "  ----------------------------------------\u001b[0m\n",
      "\u001b[33mWARNING: Discarding https://files.pythonhosted.org/packages/40/ee/8daf797cda4ffe7724b9d47cbb5e2b44ca6235764622d163c586bd9bd7c5/PyGObject-3.32.2.tar.gz#sha256=fa82746df059b9e0dcf473e0a9ff0693aa5e064f1ca1e2c46b5ac815bceda1ad (from https://pypi.org/simple/pygobject/) (requires-python:>=2.7, !=3.0.*, !=3.1.*, !=3.2.*, !=3.3.*, !=3.4.*, <4). Command errored out with exit status 1: /home/sandeep/anaconda3/bin/python /tmp/pip-standalone-pip-4jmd3668/__env_pip__.zip/pip install --ignore-installed --no-user --prefix /tmp/pip-build-env-4k238v20/overlay --no-warn-script-location --no-binary :none: --only-binary :none: -i https://pypi.org/simple -- setuptools wheel pycairo Check the logs for full command output.\u001b[0m\n",
      "\u001b[?25h  Using cached PyGObject-3.32.1.tar.gz (698 kB)\n",
      "  Installing build dependencies ... \u001b[?25lerror\n",
      "\u001b[31m  ERROR: Command errored out with exit status 1:\n",
      "   command: /home/sandeep/anaconda3/bin/python /tmp/pip-standalone-pip-5okbmy6r/__env_pip__.zip/pip install --ignore-installed --no-user --prefix /tmp/pip-build-env-yz02kipp/overlay --no-warn-script-location --no-binary :none: --only-binary :none: -i https://pypi.org/simple -- setuptools wheel pycairo\n",
      "       cwd: None\n",
      "  Complete output (35 lines):\n",
      "  Collecting setuptools\n",
      "    Using cached setuptools-65.1.0-py3-none-any.whl (1.2 MB)\n",
      "  Collecting wheel\n",
      "    Using cached wheel-0.37.1-py2.py3-none-any.whl (35 kB)\n",
      "  Collecting pycairo\n",
      "    Using cached pycairo-1.21.0.tar.gz (340 kB)\n",
      "    Installing build dependencies: started\n",
      "    Installing build dependencies: finished with status 'done'\n",
      "    Getting requirements to build wheel: started\n",
      "    Getting requirements to build wheel: finished with status 'done'\n",
      "      Preparing wheel metadata: started\n",
      "      Preparing wheel metadata: finished with status 'done'\n",
      "  Building wheels for collected packages: pycairo\n",
      "    Building wheel for pycairo (PEP 517): started\n",
      "    Building wheel for pycairo (PEP 517): finished with status 'error'\n",
      "    ERROR: Command errored out with exit status 1:\n",
      "     command: /home/sandeep/anaconda3/bin/python /tmp/tmp42mqae6y_in_process.py build_wheel /tmp/tmpsjr_e7ko\n",
      "         cwd: /tmp/pip-install-id6xq_89/pycairo_95b4bbbbacc14e94b04eb085cfb432e6\n",
      "    Complete output (12 lines):\n",
      "    running bdist_wheel\n",
      "    running build\n",
      "    running build_py\n",
      "    creating build\n",
      "    creating build/lib.linux-x86_64-cpython-39\n",
      "    creating build/lib.linux-x86_64-cpython-39/cairo\n",
      "    copying cairo/__init__.py -> build/lib.linux-x86_64-cpython-39/cairo\n",
      "    copying cairo/__init__.pyi -> build/lib.linux-x86_64-cpython-39/cairo\n",
      "    copying cairo/py.typed -> build/lib.linux-x86_64-cpython-39/cairo\n",
      "    running build_ext\n",
      "    'pkg-config' not found.\n",
      "    Command ['pkg-config', '--print-errors', '--exists', 'cairo >= 1.15.10']\n",
      "    ----------------------------------------\n",
      "    ERROR: Failed building wheel for pycairo\n",
      "  Failed to build pycairo\n",
      "  ERROR: Could not build wheels for pycairo which use PEP 517 and cannot be installed directly\n",
      "  ----------------------------------------\u001b[0m\n",
      "\u001b[33mWARNING: Discarding https://files.pythonhosted.org/packages/c1/36/c31a6ce9411b22a8ac0759c9b5ffda09368d5e0643450bb8ed83c271588c/PyGObject-3.32.1.tar.gz#sha256=4165d9fb4157e69c76f29e52a6d73a39a804e18ad9ef0eede15efd9c57c52bf2 (from https://pypi.org/simple/pygobject/). Command errored out with exit status 1: /home/sandeep/anaconda3/bin/python /tmp/pip-standalone-pip-5okbmy6r/__env_pip__.zip/pip install --ignore-installed --no-user --prefix /tmp/pip-build-env-yz02kipp/overlay --no-warn-script-location --no-binary :none: --only-binary :none: -i https://pypi.org/simple -- setuptools wheel pycairo Check the logs for full command output.\u001b[0m\n",
      "\u001b[?25h  Using cached PyGObject-3.32.0.tar.gz (698 kB)\n",
      "  Installing build dependencies ... \u001b[?25lerror\n",
      "\u001b[31m  ERROR: Command errored out with exit status 1:\n",
      "   command: /home/sandeep/anaconda3/bin/python /tmp/pip-standalone-pip-lvp6vno1/__env_pip__.zip/pip install --ignore-installed --no-user --prefix /tmp/pip-build-env-t4w5nqjr/overlay --no-warn-script-location --no-binary :none: --only-binary :none: -i https://pypi.org/simple -- setuptools wheel pycairo\n",
      "       cwd: None\n",
      "  Complete output (35 lines):\n",
      "  Collecting setuptools\n",
      "    Using cached setuptools-65.1.0-py3-none-any.whl (1.2 MB)\n",
      "  Collecting wheel\n",
      "    Using cached wheel-0.37.1-py2.py3-none-any.whl (35 kB)\n",
      "  Collecting pycairo\n",
      "    Using cached pycairo-1.21.0.tar.gz (340 kB)\n",
      "    Installing build dependencies: started\n",
      "    Installing build dependencies: finished with status 'done'\n",
      "    Getting requirements to build wheel: started\n",
      "    Getting requirements to build wheel: finished with status 'done'\n",
      "      Preparing wheel metadata: started\n",
      "      Preparing wheel metadata: finished with status 'done'\n",
      "  Building wheels for collected packages: pycairo\n",
      "    Building wheel for pycairo (PEP 517): started\n",
      "    Building wheel for pycairo (PEP 517): finished with status 'error'\n",
      "    ERROR: Command errored out with exit status 1:\n",
      "     command: /home/sandeep/anaconda3/bin/python /tmp/tmp7u6k_kbl_in_process.py build_wheel /tmp/tmpun9fbdz7\n",
      "         cwd: /tmp/pip-install-xfqme_8q/pycairo_36c2ef57aad9428cb2fb43461a12394c\n",
      "    Complete output (12 lines):\n",
      "    running bdist_wheel\n",
      "    running build\n",
      "    running build_py\n",
      "    creating build\n",
      "    creating build/lib.linux-x86_64-cpython-39\n",
      "    creating build/lib.linux-x86_64-cpython-39/cairo\n",
      "    copying cairo/__init__.py -> build/lib.linux-x86_64-cpython-39/cairo\n",
      "    copying cairo/__init__.pyi -> build/lib.linux-x86_64-cpython-39/cairo\n",
      "    copying cairo/py.typed -> build/lib.linux-x86_64-cpython-39/cairo\n",
      "    running build_ext\n",
      "    'pkg-config' not found.\n",
      "    Command ['pkg-config', '--print-errors', '--exists', 'cairo >= 1.15.10']\n",
      "    ----------------------------------------\n",
      "    ERROR: Failed building wheel for pycairo\n",
      "  Failed to build pycairo\n",
      "  ERROR: Could not build wheels for pycairo which use PEP 517 and cannot be installed directly\n",
      "  ----------------------------------------\u001b[0m\n",
      "\u001b[33mWARNING: Discarding https://files.pythonhosted.org/packages/0b/fd/56ac6898afc5c7f5718026103bd8f0b44714b6f79ac20d7eb8990c9a7eab/PyGObject-3.32.0.tar.gz#sha256=a4d6f6d8e688d28e07119fc83aabc6e7aad02057f48b2194089959d03654f695 (from https://pypi.org/simple/pygobject/). Command errored out with exit status 1: /home/sandeep/anaconda3/bin/python /tmp/pip-standalone-pip-lvp6vno1/__env_pip__.zip/pip install --ignore-installed --no-user --prefix /tmp/pip-build-env-t4w5nqjr/overlay --no-warn-script-location --no-binary :none: --only-binary :none: -i https://pypi.org/simple -- setuptools wheel pycairo Check the logs for full command output.\u001b[0m\n"
     ]
    },
    {
     "name": "stdout",
     "output_type": "stream",
     "text": [
      "\u001b[?25h  Using cached PyGObject-3.30.5.tar.gz (690 kB)\n",
      "Requirement already satisfied: beautifulsoup4 in /home/sandeep/anaconda3/lib/python3.9/site-packages (from AppKit) (4.11.1)\n",
      "Requirement already satisfied: flask in /home/sandeep/anaconda3/lib/python3.9/site-packages (from AppKit) (1.1.2)\n",
      "Requirement already satisfied: soupsieve>1.2 in /home/sandeep/anaconda3/lib/python3.9/site-packages (from beautifulsoup4->AppKit) (2.3.1)\n",
      "Requirement already satisfied: Werkzeug>=0.15 in /home/sandeep/anaconda3/lib/python3.9/site-packages (from flask->AppKit) (2.0.3)\n",
      "Requirement already satisfied: Jinja2>=2.10.1 in /home/sandeep/anaconda3/lib/python3.9/site-packages (from flask->AppKit) (2.11.3)\n",
      "Requirement already satisfied: itsdangerous>=0.24 in /home/sandeep/anaconda3/lib/python3.9/site-packages (from flask->AppKit) (2.0.1)\n",
      "Requirement already satisfied: click>=5.1 in /home/sandeep/anaconda3/lib/python3.9/site-packages (from flask->AppKit) (8.0.4)\n",
      "Requirement already satisfied: MarkupSafe>=0.23 in /home/sandeep/anaconda3/lib/python3.9/site-packages (from Jinja2>=2.10.1->flask->AppKit) (2.0.1)\n",
      "Collecting pycairo>=1.11.1\n",
      "  Using cached pycairo-1.21.0.tar.gz (340 kB)\n",
      "  Installing build dependencies ... \u001b[?25ldone\n",
      "\u001b[?25h  Getting requirements to build wheel ... \u001b[?25ldone\n",
      "\u001b[?25h    Preparing wheel metadata ... \u001b[?25ldone\n",
      "\u001b[?25hBuilding wheels for collected packages: pygobject, pycairo\n",
      "  Building wheel for pygobject (setup.py) ... \u001b[?25lerror\n",
      "\u001b[31m  ERROR: Command errored out with exit status 1:\n",
      "   command: /home/sandeep/anaconda3/bin/python -u -c 'import io, os, sys, setuptools, tokenize; sys.argv[0] = '\"'\"'/tmp/pip-install-vpquyv_r/pygobject_294acdbae63143ef92e77c4addb45347/setup.py'\"'\"'; __file__='\"'\"'/tmp/pip-install-vpquyv_r/pygobject_294acdbae63143ef92e77c4addb45347/setup.py'\"'\"';f = getattr(tokenize, '\"'\"'open'\"'\"', open)(__file__) if os.path.exists(__file__) else io.StringIO('\"'\"'from setuptools import setup; setup()'\"'\"');code = f.read().replace('\"'\"'\\r\\n'\"'\"', '\"'\"'\\n'\"'\"');f.close();exec(compile(code, __file__, '\"'\"'exec'\"'\"'))' bdist_wheel -d /tmp/pip-wheel-98903qj2\n",
      "       cwd: /tmp/pip-install-vpquyv_r/pygobject_294acdbae63143ef92e77c4addb45347/\n",
      "  Complete output (40 lines):\n",
      "  running bdist_wheel\n",
      "  running build\n",
      "  running build_py\n",
      "  creating build\n",
      "  creating build/lib.linux-x86_64-3.9\n",
      "  creating build/lib.linux-x86_64-3.9/pygtkcompat\n",
      "  copying pygtkcompat/__init__.py -> build/lib.linux-x86_64-3.9/pygtkcompat\n",
      "  copying pygtkcompat/pygtkcompat.py -> build/lib.linux-x86_64-3.9/pygtkcompat\n",
      "  copying pygtkcompat/generictreemodel.py -> build/lib.linux-x86_64-3.9/pygtkcompat\n",
      "  creating build/lib.linux-x86_64-3.9/gi\n",
      "  copying gi/_compat.py -> build/lib.linux-x86_64-3.9/gi\n",
      "  copying gi/_gtktemplate.py -> build/lib.linux-x86_64-3.9/gi\n",
      "  copying gi/_error.py -> build/lib.linux-x86_64-3.9/gi\n",
      "  copying gi/docstring.py -> build/lib.linux-x86_64-3.9/gi\n",
      "  copying gi/_option.py -> build/lib.linux-x86_64-3.9/gi\n",
      "  copying gi/__init__.py -> build/lib.linux-x86_64-3.9/gi\n",
      "  copying gi/importer.py -> build/lib.linux-x86_64-3.9/gi\n",
      "  copying gi/_ossighelper.py -> build/lib.linux-x86_64-3.9/gi\n",
      "  copying gi/module.py -> build/lib.linux-x86_64-3.9/gi\n",
      "  copying gi/_constants.py -> build/lib.linux-x86_64-3.9/gi\n",
      "  copying gi/_signalhelper.py -> build/lib.linux-x86_64-3.9/gi\n",
      "  copying gi/pygtkcompat.py -> build/lib.linux-x86_64-3.9/gi\n",
      "  copying gi/_propertyhelper.py -> build/lib.linux-x86_64-3.9/gi\n",
      "  copying gi/types.py -> build/lib.linux-x86_64-3.9/gi\n",
      "  creating build/lib.linux-x86_64-3.9/gi/repository\n",
      "  copying gi/repository/__init__.py -> build/lib.linux-x86_64-3.9/gi/repository\n",
      "  creating build/lib.linux-x86_64-3.9/gi/overrides\n",
      "  copying gi/overrides/GObject.py -> build/lib.linux-x86_64-3.9/gi/overrides\n",
      "  copying gi/overrides/Pango.py -> build/lib.linux-x86_64-3.9/gi/overrides\n",
      "  copying gi/overrides/Gdk.py -> build/lib.linux-x86_64-3.9/gi/overrides\n",
      "  copying gi/overrides/keysyms.py -> build/lib.linux-x86_64-3.9/gi/overrides\n",
      "  copying gi/overrides/__init__.py -> build/lib.linux-x86_64-3.9/gi/overrides\n",
      "  copying gi/overrides/GIMarshallingTests.py -> build/lib.linux-x86_64-3.9/gi/overrides\n",
      "  copying gi/overrides/GLib.py -> build/lib.linux-x86_64-3.9/gi/overrides\n",
      "  copying gi/overrides/GdkPixbuf.py -> build/lib.linux-x86_64-3.9/gi/overrides\n",
      "  copying gi/overrides/Gio.py -> build/lib.linux-x86_64-3.9/gi/overrides\n",
      "  copying gi/overrides/Gtk.py -> build/lib.linux-x86_64-3.9/gi/overrides\n",
      "  running build_ext\n",
      "  'pkg-config' not found.\n",
      "  Arguments: ('pkg-config', '--print-errors', '--exists', 'glib-2.0 >= 2.38.0')\n",
      "  ----------------------------------------\u001b[0m\n",
      "\u001b[31m  ERROR: Failed building wheel for pygobject\u001b[0m\n",
      "\u001b[?25h  Running setup.py clean for pygobject\n",
      "  Building wheel for pycairo (PEP 517) ... \u001b[?25lerror\n",
      "\u001b[31m  ERROR: Command errored out with exit status 1:\n",
      "   command: /home/sandeep/anaconda3/bin/python /home/sandeep/anaconda3/lib/python3.9/site-packages/pip/_vendor/pep517/in_process/_in_process.py build_wheel /tmp/tmpx4cms7js\n",
      "       cwd: /tmp/pip-install-vpquyv_r/pycairo_60bd26bad9fd4dea95e76b764089cf83\n",
      "  Complete output (12 lines):\n",
      "  running bdist_wheel\n",
      "  running build\n",
      "  running build_py\n",
      "  creating build\n",
      "  creating build/lib.linux-x86_64-cpython-39\n",
      "  creating build/lib.linux-x86_64-cpython-39/cairo\n",
      "  copying cairo/__init__.py -> build/lib.linux-x86_64-cpython-39/cairo\n",
      "  copying cairo/__init__.pyi -> build/lib.linux-x86_64-cpython-39/cairo\n",
      "  copying cairo/py.typed -> build/lib.linux-x86_64-cpython-39/cairo\n",
      "  running build_ext\n",
      "  'pkg-config' not found.\n",
      "  Command ['pkg-config', '--print-errors', '--exists', 'cairo >= 1.15.10']\n",
      "  ----------------------------------------\u001b[0m\n",
      "\u001b[31m  ERROR: Failed building wheel for pycairo\u001b[0m\n",
      "\u001b[?25hFailed to build pygobject pycairo\n",
      "\u001b[31mERROR: Could not build wheels for pycairo which use PEP 517 and cannot be installed directly\u001b[0m\n"
     ]
    }
   ],
   "source": [
    "!pip install AppKit"
   ]
  },
  {
   "cell_type": "code",
   "execution_count": 5,
   "id": "03f6c6b3",
   "metadata": {},
   "outputs": [
    {
     "ename": "AttributeError",
     "evalue": "'NoneType' object has no attribute 'attrs'",
     "output_type": "error",
     "traceback": [
      "\u001b[0;31m---------------------------------------------------------------------------\u001b[0m",
      "\u001b[0;31mAttributeError\u001b[0m                            Traceback (most recent call last)",
      "Input \u001b[0;32mIn [5]\u001b[0m, in \u001b[0;36m<cell line: 45>\u001b[0;34m()\u001b[0m\n\u001b[1;32m     48\u001b[0m username \u001b[38;5;241m=\u001b[39m \u001b[38;5;124m\"\u001b[39m\u001b[38;5;124mabhishekrajpoot373\u001b[39m\u001b[38;5;124m\"\u001b[39m\n\u001b[1;32m     50\u001b[0m \u001b[38;5;66;03m# calling scrape function\u001b[39;00m\n\u001b[0;32m---> 51\u001b[0m data \u001b[38;5;241m=\u001b[39m \u001b[43mscrape_data\u001b[49m\u001b[43m(\u001b[49m\u001b[43musername\u001b[49m\u001b[43m)\u001b[49m\n\u001b[1;32m     53\u001b[0m \u001b[38;5;66;03m# printing the info\u001b[39;00m\n\u001b[1;32m     54\u001b[0m \u001b[38;5;28mprint\u001b[39m(data)\n",
      "Input \u001b[0;32mIn [5]\u001b[0m, in \u001b[0;36mscrape_data\u001b[0;34m(username)\u001b[0m\n\u001b[1;32m     39\u001b[0m meta \u001b[38;5;241m=\u001b[39m s\u001b[38;5;241m.\u001b[39mfind(\u001b[38;5;124m\"\u001b[39m\u001b[38;5;124mmeta\u001b[39m\u001b[38;5;124m\"\u001b[39m, \u001b[38;5;28mproperty\u001b[39m \u001b[38;5;241m=\u001b[39m\u001b[38;5;124m\"\u001b[39m\u001b[38;5;124mog:description\u001b[39m\u001b[38;5;124m\"\u001b[39m)\n\u001b[1;32m     41\u001b[0m \u001b[38;5;66;03m# calling parse method\u001b[39;00m\n\u001b[0;32m---> 42\u001b[0m \u001b[38;5;28;01mreturn\u001b[39;00m parse_data(\u001b[43mmeta\u001b[49m\u001b[38;5;241;43m.\u001b[39;49m\u001b[43mattrs\u001b[49m[\u001b[38;5;124m'\u001b[39m\u001b[38;5;124mcontent\u001b[39m\u001b[38;5;124m'\u001b[39m])\n",
      "\u001b[0;31mAttributeError\u001b[0m: 'NoneType' object has no attribute 'attrs'"
     ]
    }
   ],
   "source": [
    "# importing libraries\n",
    "from bs4 import BeautifulSoup\n",
    "import requests\n",
    "\n",
    "# instagram URL\n",
    "URL = \"https://www.instagram.com/{}/\"\n",
    "\n",
    "# parse function\n",
    "def parse_data(s):\n",
    "\t\n",
    "\t# creating a dictionary\n",
    "\tdata = {}\n",
    "\t\n",
    "\t# splitting the content\n",
    "\t# then taking the first part\n",
    "\ts = s.split(\"-\")[0]\n",
    "\t\n",
    "\t# again splitting the content\n",
    "\ts = s.split(\" \")\n",
    "\t\n",
    "\t# assigning the values\n",
    "\tdata['Followers'] = s[0]\n",
    "\tdata['Following'] = s[2]\n",
    "\tdata['Posts'] = s[4]\n",
    "\t\n",
    "\t# returning the dictionary\n",
    "\treturn data\n",
    "\n",
    "# scrape function\n",
    "def scrape_data(username):\n",
    "\t\n",
    "\t# getting the request from url\n",
    "\tr = requests.get(URL.format(username))\n",
    "\t\n",
    "\t# converting the text\n",
    "\ts = BeautifulSoup(r.text, \"html.parser\")\n",
    "\t\n",
    "\t# finding meta info\n",
    "\tmeta = s.find(\"meta\", property =\"og:description\")\n",
    "\t\n",
    "\t# calling parse method\n",
    "\treturn parse_data(meta.attrs['content'])\n",
    "\n",
    "# main function\n",
    "if __name__==\"__main__\":\n",
    "\t\n",
    "\t# user name\n",
    "\tusername = \"abhishekrajpoot373\"\n",
    "\t\n",
    "\t# calling scrape function\n",
    "\tdata = scrape_data(username)\n",
    "\t\n",
    "\t# printing the info\n",
    "\tprint(data)\n"
   ]
  },
  {
   "cell_type": "markdown",
   "id": "4e73cae4",
   "metadata": {},
   "source": [
    "### Random"
   ]
  },
  {
   "cell_type": "code",
   "execution_count": 1,
   "id": "adc7a974",
   "metadata": {},
   "outputs": [],
   "source": [
    "import random"
   ]
  },
  {
   "cell_type": "code",
   "execution_count": 11,
   "id": "a7256a2a",
   "metadata": {},
   "outputs": [
    {
     "name": "stdout",
     "output_type": "stream",
     "text": [
      "3\n",
      "---------\n",
      "0.3,3\n",
      "---------\n",
      "0.81,5\n",
      "---------\n",
      "0.41,7\n",
      "---------\n",
      "0.42,10\n",
      "---------\n",
      "0.03,5\n",
      "---------\n",
      "0.97,5\n",
      "---------\n",
      "0.21,2\n",
      "---------\n",
      "0.2,4\n",
      "---------\n",
      "0.58,2\n",
      "---------\n",
      "0.81,"
     ]
    }
   ],
   "source": [
    "for i in range(10):\n",
    "    print(random.randint(1,10))\n",
    "    print(\"---------\")\n",
    "    print(round(random.random(),2), end=\",\")"
   ]
  },
  {
   "cell_type": "code",
   "execution_count": null,
   "id": "ed56afac",
   "metadata": {},
   "outputs": [],
   "source": []
  }
 ],
 "metadata": {
  "kernelspec": {
   "display_name": "Python 3 (ipykernel)",
   "language": "python",
   "name": "python3"
  },
  "language_info": {
   "codemirror_mode": {
    "name": "ipython",
    "version": 3
   },
   "file_extension": ".py",
   "mimetype": "text/x-python",
   "name": "python",
   "nbconvert_exporter": "python",
   "pygments_lexer": "ipython3",
   "version": "3.9.12"
  }
 },
 "nbformat": 4,
 "nbformat_minor": 5
}
