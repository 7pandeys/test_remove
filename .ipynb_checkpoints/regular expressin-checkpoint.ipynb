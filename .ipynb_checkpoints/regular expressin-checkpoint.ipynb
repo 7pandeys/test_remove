{
 "cells": [
  {
   "cell_type": "code",
   "execution_count": 1,
   "id": "f59450ea",
   "metadata": {},
   "outputs": [],
   "source": [
    "text = 'The pone number is of the the agenet is 400-555-1234 call me soon!'"
   ]
  },
  {
   "cell_type": "code",
   "execution_count": 3,
   "id": "34658755",
   "metadata": {},
   "outputs": [
    {
     "data": {
      "text/plain": [
       "<re.Match object; span=(9, 15), match='number'>"
      ]
     },
     "execution_count": 3,
     "metadata": {},
     "output_type": "execute_result"
    }
   ],
   "source": [
    "import re\n",
    "re.search(\"number\",text)"
   ]
  },
  {
   "cell_type": "code",
   "execution_count": 4,
   "id": "2fffd33b",
   "metadata": {},
   "outputs": [],
   "source": [
    "pattern = r'/d{3}'"
   ]
  },
  {
   "cell_type": "code",
   "execution_count": 8,
   "id": "1a7c2b54",
   "metadata": {},
   "outputs": [],
   "source": [
    "s = re.search(r'\\d\\d\\d-\\d\\d\\d-\\d\\d\\d\\d',text)"
   ]
  },
  {
   "cell_type": "code",
   "execution_count": 13,
   "id": "2cf9607d",
   "metadata": {},
   "outputs": [
    {
     "data": {
      "text/plain": [
       "<re.Match object; span=(40, 52), match='400-555-1234'>"
      ]
     },
     "execution_count": 13,
     "metadata": {},
     "output_type": "execute_result"
    }
   ],
   "source": [
    "s"
   ]
  },
  {
   "cell_type": "code",
   "execution_count": null,
   "id": "aab33ff9",
   "metadata": {},
   "outputs": [],
   "source": []
  }
 ],
 "metadata": {
  "kernelspec": {
   "display_name": "Python 3 (ipykernel)",
   "language": "python",
   "name": "python3"
  },
  "language_info": {
   "codemirror_mode": {
    "name": "ipython",
    "version": 3
   },
   "file_extension": ".py",
   "mimetype": "text/x-python",
   "name": "python",
   "nbconvert_exporter": "python",
   "pygments_lexer": "ipython3",
   "version": "3.9.12"
  }
 },
 "nbformat": 4,
 "nbformat_minor": 5
}
