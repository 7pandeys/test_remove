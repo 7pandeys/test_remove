{
 "cells": [
  {
   "cell_type": "code",
   "execution_count": 3,
   "id": "db887460",
   "metadata": {},
   "outputs": [],
   "source": [
    "from turtle import *"
   ]
  },
  {
   "cell_type": "code",
   "execution_count": 30,
   "id": "56e5d4ce",
   "metadata": {},
   "outputs": [
    {
     "ename": "Terminator",
     "evalue": "",
     "output_type": "error",
     "traceback": [
      "\u001b[0;31m---------------------------------------------------------------------------\u001b[0m",
      "\u001b[0;31mTerminator\u001b[0m                                Traceback (most recent call last)",
      "Input \u001b[0;32mIn [30]\u001b[0m, in \u001b[0;36m<cell line: 9>\u001b[0;34m()\u001b[0m\n\u001b[1;32m      7\u001b[0m forward(\u001b[38;5;241m100\u001b[39m)\n\u001b[1;32m      8\u001b[0m done()\n\u001b[0;32m----> 9\u001b[0m \u001b[43mend_fill\u001b[49m\u001b[43m(\u001b[49m\u001b[43m)\u001b[49m\n",
      "File \u001b[0;32m<string>:5\u001b[0m, in \u001b[0;36mend_fill\u001b[0;34m()\u001b[0m\n",
      "\u001b[0;31mTerminator\u001b[0m: "
     ]
    }
   ],
   "source": [
    "begin_fill()\n",
    "left(50)\n",
    "forward(100)\n",
    "circle(40,180)\n",
    "left(260)\n",
    "circle(40,180)\n",
    "forward(100)\n",
    "done()\n",
    "end_fill()"
   ]
  },
  {
   "cell_type": "code",
   "execution_count": 32,
   "id": "4c3f39d7",
   "metadata": {},
   "outputs": [],
   "source": [
    "import cv2"
   ]
  },
  {
   "cell_type": "code",
   "execution_count": 1,
   "id": "390ad12c",
   "metadata": {},
   "outputs": [
    {
     "data": {
      "application/javascript": [
       "\n",
       "        if (window._pyforest_update_imports_cell) { window._pyforest_update_imports_cell('import cv2'); }\n",
       "    "
      ],
      "text/plain": [
       "<IPython.core.display.Javascript object>"
      ]
     },
     "metadata": {},
     "output_type": "display_data"
    },
    {
     "data": {
      "application/javascript": [
       "\n",
       "        if (window._pyforest_update_imports_cell) { window._pyforest_update_imports_cell('import cv2'); }\n",
       "    "
      ],
      "text/plain": [
       "<IPython.core.display.Javascript object>"
      ]
     },
     "metadata": {},
     "output_type": "display_data"
    },
    {
     "data": {
      "application/javascript": [
       "\n",
       "        if (window._pyforest_update_imports_cell) { window._pyforest_update_imports_cell('import cv2'); }\n",
       "    "
      ],
      "text/plain": [
       "<IPython.core.display.Javascript object>"
      ]
     },
     "metadata": {},
     "output_type": "display_data"
    },
    {
     "name": "stderr",
     "output_type": "stream",
     "text": [
      "Warning: Ignoring XDG_SESSION_TYPE=wayland on Gnome. Use QT_QPA_PLATFORM=wayland to run on Wayland anyway.\n",
      "QObject::moveToThread: Current thread (0x55c247005ca0) is not the object's thread (0x55c2462dfbb0).\n",
      "Cannot move to target thread (0x55c247005ca0)\n",
      "\n",
      "QObject::moveToThread: Current thread (0x55c247005ca0) is not the object's thread (0x55c2462dfbb0).\n",
      "Cannot move to target thread (0x55c247005ca0)\n",
      "\n",
      "QObject::moveToThread: Current thread (0x55c247005ca0) is not the object's thread (0x55c2462dfbb0).\n",
      "Cannot move to target thread (0x55c247005ca0)\n",
      "\n",
      "QObject::moveToThread: Current thread (0x55c247005ca0) is not the object's thread (0x55c2462dfbb0).\n",
      "Cannot move to target thread (0x55c247005ca0)\n",
      "\n",
      "QObject::moveToThread: Current thread (0x55c247005ca0) is not the object's thread (0x55c2462dfbb0).\n",
      "Cannot move to target thread (0x55c247005ca0)\n",
      "\n",
      "QObject::moveToThread: Current thread (0x55c247005ca0) is not the object's thread (0x55c2462dfbb0).\n",
      "Cannot move to target thread (0x55c247005ca0)\n",
      "\n",
      "QObject::moveToThread: Current thread (0x55c247005ca0) is not the object's thread (0x55c2462dfbb0).\n",
      "Cannot move to target thread (0x55c247005ca0)\n",
      "\n",
      "QObject::moveToThread: Current thread (0x55c247005ca0) is not the object's thread (0x55c2462dfbb0).\n",
      "Cannot move to target thread (0x55c247005ca0)\n",
      "\n",
      "QObject::moveToThread: Current thread (0x55c247005ca0) is not the object's thread (0x55c2462dfbb0).\n",
      "Cannot move to target thread (0x55c247005ca0)\n",
      "\n",
      "QObject::moveToThread: Current thread (0x55c247005ca0) is not the object's thread (0x55c2462dfbb0).\n",
      "Cannot move to target thread (0x55c247005ca0)\n",
      "\n",
      "QObject::moveToThread: Current thread (0x55c247005ca0) is not the object's thread (0x55c2462dfbb0).\n",
      "Cannot move to target thread (0x55c247005ca0)\n",
      "\n",
      "QObject::moveToThread: Current thread (0x55c247005ca0) is not the object's thread (0x55c2462dfbb0).\n",
      "Cannot move to target thread (0x55c247005ca0)\n",
      "\n",
      "QObject::moveToThread: Current thread (0x55c247005ca0) is not the object's thread (0x55c2462dfbb0).\n",
      "Cannot move to target thread (0x55c247005ca0)\n",
      "\n",
      "QObject::moveToThread: Current thread (0x55c247005ca0) is not the object's thread (0x55c2462dfbb0).\n",
      "Cannot move to target thread (0x55c247005ca0)\n",
      "\n",
      "QObject::moveToThread: Current thread (0x55c247005ca0) is not the object's thread (0x55c2462dfbb0).\n",
      "Cannot move to target thread (0x55c247005ca0)\n",
      "\n",
      "QObject::moveToThread: Current thread (0x55c247005ca0) is not the object's thread (0x55c2462dfbb0).\n",
      "Cannot move to target thread (0x55c247005ca0)\n",
      "\n",
      "QObject::moveToThread: Current thread (0x55c247005ca0) is not the object's thread (0x55c2462dfbb0).\n",
      "Cannot move to target thread (0x55c247005ca0)\n",
      "\n",
      "QObject::moveToThread: Current thread (0x55c247005ca0) is not the object's thread (0x55c2462dfbb0).\n",
      "Cannot move to target thread (0x55c247005ca0)\n",
      "\n",
      "QObject::moveToThread: Current thread (0x55c247005ca0) is not the object's thread (0x55c2462dfbb0).\n",
      "Cannot move to target thread (0x55c247005ca0)\n",
      "\n",
      "QObject::moveToThread: Current thread (0x55c247005ca0) is not the object's thread (0x55c2462dfbb0).\n",
      "Cannot move to target thread (0x55c247005ca0)\n",
      "\n",
      "QObject::moveToThread: Current thread (0x55c247005ca0) is not the object's thread (0x55c2462dfbb0).\n",
      "Cannot move to target thread (0x55c247005ca0)\n",
      "\n",
      "QObject::moveToThread: Current thread (0x55c247005ca0) is not the object's thread (0x55c2462dfbb0).\n",
      "Cannot move to target thread (0x55c247005ca0)\n",
      "\n",
      "QObject::moveToThread: Current thread (0x55c247005ca0) is not the object's thread (0x55c2462dfbb0).\n",
      "Cannot move to target thread (0x55c247005ca0)\n",
      "\n",
      "QObject::moveToThread: Current thread (0x55c247005ca0) is not the object's thread (0x55c2462dfbb0).\n",
      "Cannot move to target thread (0x55c247005ca0)\n",
      "\n",
      "QObject::moveToThread: Current thread (0x55c247005ca0) is not the object's thread (0x55c2462dfbb0).\n",
      "Cannot move to target thread (0x55c247005ca0)\n",
      "\n",
      "QObject::moveToThread: Current thread (0x55c247005ca0) is not the object's thread (0x55c2462dfbb0).\n",
      "Cannot move to target thread (0x55c247005ca0)\n",
      "\n",
      "QObject::moveToThread: Current thread (0x55c247005ca0) is not the object's thread (0x55c2462dfbb0).\n",
      "Cannot move to target thread (0x55c247005ca0)\n",
      "\n",
      "QObject::moveToThread: Current thread (0x55c247005ca0) is not the object's thread (0x55c2462dfbb0).\n",
      "Cannot move to target thread (0x55c247005ca0)\n",
      "\n",
      "QObject::moveToThread: Current thread (0x55c247005ca0) is not the object's thread (0x55c2462dfbb0).\n",
      "Cannot move to target thread (0x55c247005ca0)\n",
      "\n",
      "QObject::moveToThread: Current thread (0x55c247005ca0) is not the object's thread (0x55c2462dfbb0).\n",
      "Cannot move to target thread (0x55c247005ca0)\n",
      "\n",
      "QObject::moveToThread: Current thread (0x55c247005ca0) is not the object's thread (0x55c2462dfbb0).\n",
      "Cannot move to target thread (0x55c247005ca0)\n",
      "\n",
      "QObject::moveToThread: Current thread (0x55c247005ca0) is not the object's thread (0x55c2462dfbb0).\n",
      "Cannot move to target thread (0x55c247005ca0)\n",
      "\n",
      "QObject::moveToThread: Current thread (0x55c247005ca0) is not the object's thread (0x55c2462dfbb0).\n",
      "Cannot move to target thread (0x55c247005ca0)\n",
      "\n",
      "QObject::moveToThread: Current thread (0x55c247005ca0) is not the object's thread (0x55c2462dfbb0).\n",
      "Cannot move to target thread (0x55c247005ca0)\n",
      "\n",
      "QObject::moveToThread: Current thread (0x55c247005ca0) is not the object's thread (0x55c2462dfbb0).\n",
      "Cannot move to target thread (0x55c247005ca0)\n",
      "\n",
      "QObject::moveToThread: Current thread (0x55c247005ca0) is not the object's thread (0x55c2462dfbb0).\n",
      "Cannot move to target thread (0x55c247005ca0)\n",
      "\n",
      "QObject::moveToThread: Current thread (0x55c247005ca0) is not the object's thread (0x55c2462dfbb0).\n",
      "Cannot move to target thread (0x55c247005ca0)\n",
      "\n",
      "QObject::moveToThread: Current thread (0x55c247005ca0) is not the object's thread (0x55c2462dfbb0).\n",
      "Cannot move to target thread (0x55c247005ca0)\n",
      "\n",
      "QObject::moveToThread: Current thread (0x55c247005ca0) is not the object's thread (0x55c2462dfbb0).\n",
      "Cannot move to target thread (0x55c247005ca0)\n",
      "\n",
      "QObject::moveToThread: Current thread (0x55c247005ca0) is not the object's thread (0x55c2462dfbb0).\n",
      "Cannot move to target thread (0x55c247005ca0)\n",
      "\n",
      "QObject::moveToThread: Current thread (0x55c247005ca0) is not the object's thread (0x55c2462dfbb0).\n",
      "Cannot move to target thread (0x55c247005ca0)\n",
      "\n",
      "QObject::moveToThread: Current thread (0x55c247005ca0) is not the object's thread (0x55c2462dfbb0).\n",
      "Cannot move to target thread (0x55c247005ca0)\n",
      "\n",
      "QObject::moveToThread: Current thread (0x55c247005ca0) is not the object's thread (0x55c2462dfbb0).\n",
      "Cannot move to target thread (0x55c247005ca0)\n",
      "\n",
      "QObject::moveToThread: Current thread (0x55c247005ca0) is not the object's thread (0x55c2462dfbb0).\n",
      "Cannot move to target thread (0x55c247005ca0)\n",
      "\n",
      "QObject::moveToThread: Current thread (0x55c247005ca0) is not the object's thread (0x55c2462dfbb0).\n",
      "Cannot move to target thread (0x55c247005ca0)\n",
      "\n",
      "QObject::moveToThread: Current thread (0x55c247005ca0) is not the object's thread (0x55c2462dfbb0).\n",
      "Cannot move to target thread (0x55c247005ca0)\n",
      "\n",
      "QObject::moveToThread: Current thread (0x55c247005ca0) is not the object's thread (0x55c2462dfbb0).\n",
      "Cannot move to target thread (0x55c247005ca0)\n",
      "\n",
      "QObject::moveToThread: Current thread (0x55c247005ca0) is not the object's thread (0x55c2462dfbb0).\n",
      "Cannot move to target thread (0x55c247005ca0)\n",
      "\n",
      "QObject::moveToThread: Current thread (0x55c247005ca0) is not the object's thread (0x55c2462dfbb0).\n",
      "Cannot move to target thread (0x55c247005ca0)\n",
      "\n",
      "QObject::moveToThread: Current thread (0x55c247005ca0) is not the object's thread (0x55c2462dfbb0).\n",
      "Cannot move to target thread (0x55c247005ca0)\n",
      "\n",
      "QObject::moveToThread: Current thread (0x55c247005ca0) is not the object's thread (0x55c2462dfbb0).\n",
      "Cannot move to target thread (0x55c247005ca0)\n",
      "\n",
      "QObject::moveToThread: Current thread (0x55c247005ca0) is not the object's thread (0x55c2462dfbb0).\n",
      "Cannot move to target thread (0x55c247005ca0)\n",
      "\n",
      "QObject::moveToThread: Current thread (0x55c247005ca0) is not the object's thread (0x55c2462dfbb0).\n",
      "Cannot move to target thread (0x55c247005ca0)\n",
      "\n",
      "QObject::moveToThread: Current thread (0x55c247005ca0) is not the object's thread (0x55c2462dfbb0).\n",
      "Cannot move to target thread (0x55c247005ca0)\n",
      "\n",
      "QObject::moveToThread: Current thread (0x55c247005ca0) is not the object's thread (0x55c2462dfbb0).\n",
      "Cannot move to target thread (0x55c247005ca0)\n",
      "\n",
      "QObject::moveToThread: Current thread (0x55c247005ca0) is not the object's thread (0x55c2462dfbb0).\n",
      "Cannot move to target thread (0x55c247005ca0)\n",
      "\n",
      "QObject::moveToThread: Current thread (0x55c247005ca0) is not the object's thread (0x55c2462dfbb0).\n",
      "Cannot move to target thread (0x55c247005ca0)\n",
      "\n",
      "QObject::moveToThread: Current thread (0x55c247005ca0) is not the object's thread (0x55c2462dfbb0).\n",
      "Cannot move to target thread (0x55c247005ca0)\n",
      "\n",
      "QObject::moveToThread: Current thread (0x55c247005ca0) is not the object's thread (0x55c2462dfbb0).\n",
      "Cannot move to target thread (0x55c247005ca0)\n",
      "\n",
      "QObject::moveToThread: Current thread (0x55c247005ca0) is not the object's thread (0x55c2462dfbb0).\n",
      "Cannot move to target thread (0x55c247005ca0)\n",
      "\n",
      "QObject::moveToThread: Current thread (0x55c247005ca0) is not the object's thread (0x55c2462dfbb0).\n",
      "Cannot move to target thread (0x55c247005ca0)\n",
      "\n",
      "QObject::moveToThread: Current thread (0x55c247005ca0) is not the object's thread (0x55c2462dfbb0).\n",
      "Cannot move to target thread (0x55c247005ca0)\n",
      "\n",
      "QObject::moveToThread: Current thread (0x55c247005ca0) is not the object's thread (0x55c2462dfbb0).\n",
      "Cannot move to target thread (0x55c247005ca0)\n",
      "\n",
      "QObject::moveToThread: Current thread (0x55c247005ca0) is not the object's thread (0x55c2462dfbb0).\n",
      "Cannot move to target thread (0x55c247005ca0)\n",
      "\n",
      "QObject::moveToThread: Current thread (0x55c247005ca0) is not the object's thread (0x55c2462dfbb0).\n",
      "Cannot move to target thread (0x55c247005ca0)\n",
      "\n",
      "QObject::moveToThread: Current thread (0x55c247005ca0) is not the object's thread (0x55c2462dfbb0).\n",
      "Cannot move to target thread (0x55c247005ca0)\n",
      "\n",
      "QObject::moveToThread: Current thread (0x55c247005ca0) is not the object's thread (0x55c2462dfbb0).\n",
      "Cannot move to target thread (0x55c247005ca0)\n",
      "\n",
      "QObject::moveToThread: Current thread (0x55c247005ca0) is not the object's thread (0x55c2462dfbb0).\n",
      "Cannot move to target thread (0x55c247005ca0)\n",
      "\n",
      "QObject::moveToThread: Current thread (0x55c247005ca0) is not the object's thread (0x55c2462dfbb0).\n",
      "Cannot move to target thread (0x55c247005ca0)\n",
      "\n",
      "QObject::moveToThread: Current thread (0x55c247005ca0) is not the object's thread (0x55c2462dfbb0).\n",
      "Cannot move to target thread (0x55c247005ca0)\n",
      "\n",
      "QObject::moveToThread: Current thread (0x55c247005ca0) is not the object's thread (0x55c2462dfbb0).\n",
      "Cannot move to target thread (0x55c247005ca0)\n",
      "\n",
      "QObject::moveToThread: Current thread (0x55c247005ca0) is not the object's thread (0x55c2462dfbb0).\n",
      "Cannot move to target thread (0x55c247005ca0)\n",
      "\n",
      "QObject::moveToThread: Current thread (0x55c247005ca0) is not the object's thread (0x55c2462dfbb0).\n",
      "Cannot move to target thread (0x55c247005ca0)\n",
      "\n",
      "QObject::moveToThread: Current thread (0x55c247005ca0) is not the object's thread (0x55c2462dfbb0).\n",
      "Cannot move to target thread (0x55c247005ca0)\n",
      "\n",
      "QObject::moveToThread: Current thread (0x55c247005ca0) is not the object's thread (0x55c2462dfbb0).\n",
      "Cannot move to target thread (0x55c247005ca0)\n",
      "\n",
      "QObject::moveToThread: Current thread (0x55c247005ca0) is not the object's thread (0x55c2462dfbb0).\n",
      "Cannot move to target thread (0x55c247005ca0)\n",
      "\n",
      "QObject::moveToThread: Current thread (0x55c247005ca0) is not the object's thread (0x55c2462dfbb0).\n",
      "Cannot move to target thread (0x55c247005ca0)\n",
      "\n",
      "QObject::moveToThread: Current thread (0x55c247005ca0) is not the object's thread (0x55c2462dfbb0).\n",
      "Cannot move to target thread (0x55c247005ca0)\n",
      "\n",
      "QObject::moveToThread: Current thread (0x55c247005ca0) is not the object's thread (0x55c2462dfbb0).\n",
      "Cannot move to target thread (0x55c247005ca0)\n",
      "\n",
      "QObject::moveToThread: Current thread (0x55c247005ca0) is not the object's thread (0x55c2462dfbb0).\n",
      "Cannot move to target thread (0x55c247005ca0)\n",
      "\n",
      "QObject::moveToThread: Current thread (0x55c247005ca0) is not the object's thread (0x55c2462dfbb0).\n",
      "Cannot move to target thread (0x55c247005ca0)\n",
      "\n",
      "QObject::moveToThread: Current thread (0x55c247005ca0) is not the object's thread (0x55c2462dfbb0).\n",
      "Cannot move to target thread (0x55c247005ca0)\n",
      "\n",
      "QObject::moveToThread: Current thread (0x55c247005ca0) is not the object's thread (0x55c2462dfbb0).\n",
      "Cannot move to target thread (0x55c247005ca0)\n",
      "\n",
      "QObject::moveToThread: Current thread (0x55c247005ca0) is not the object's thread (0x55c2462dfbb0).\n",
      "Cannot move to target thread (0x55c247005ca0)\n",
      "\n",
      "QObject::moveToThread: Current thread (0x55c247005ca0) is not the object's thread (0x55c2462dfbb0).\n",
      "Cannot move to target thread (0x55c247005ca0)\n",
      "\n",
      "QObject::moveToThread: Current thread (0x55c247005ca0) is not the object's thread (0x55c2462dfbb0).\n",
      "Cannot move to target thread (0x55c247005ca0)\n",
      "\n",
      "QObject::moveToThread: Current thread (0x55c247005ca0) is not the object's thread (0x55c2462dfbb0).\n",
      "Cannot move to target thread (0x55c247005ca0)\n",
      "\n",
      "QObject::moveToThread: Current thread (0x55c247005ca0) is not the object's thread (0x55c2462dfbb0).\n",
      "Cannot move to target thread (0x55c247005ca0)\n",
      "\n",
      "QObject::moveToThread: Current thread (0x55c247005ca0) is not the object's thread (0x55c2462dfbb0).\n",
      "Cannot move to target thread (0x55c247005ca0)\n",
      "\n",
      "QObject::moveToThread: Current thread (0x55c247005ca0) is not the object's thread (0x55c2462dfbb0).\n",
      "Cannot move to target thread (0x55c247005ca0)\n",
      "\n",
      "QObject::moveToThread: Current thread (0x55c247005ca0) is not the object's thread (0x55c2462dfbb0).\n",
      "Cannot move to target thread (0x55c247005ca0)\n",
      "\n",
      "QObject::moveToThread: Current thread (0x55c247005ca0) is not the object's thread (0x55c2462dfbb0).\n",
      "Cannot move to target thread (0x55c247005ca0)\n",
      "\n",
      "QObject::moveToThread: Current thread (0x55c247005ca0) is not the object's thread (0x55c2462dfbb0).\n",
      "Cannot move to target thread (0x55c247005ca0)\n",
      "\n",
      "QObject::moveToThread: Current thread (0x55c247005ca0) is not the object's thread (0x55c2462dfbb0).\n",
      "Cannot move to target thread (0x55c247005ca0)\n",
      "\n",
      "QObject::moveToThread: Current thread (0x55c247005ca0) is not the object's thread (0x55c2462dfbb0).\n",
      "Cannot move to target thread (0x55c247005ca0)\n",
      "\n",
      "QObject::moveToThread: Current thread (0x55c247005ca0) is not the object's thread (0x55c2462dfbb0).\n",
      "Cannot move to target thread (0x55c247005ca0)\n",
      "\n",
      "QObject::moveToThread: Current thread (0x55c247005ca0) is not the object's thread (0x55c2462dfbb0).\n",
      "Cannot move to target thread (0x55c247005ca0)\n",
      "\n",
      "QObject::moveToThread: Current thread (0x55c247005ca0) is not the object's thread (0x55c2462dfbb0).\n",
      "Cannot move to target thread (0x55c247005ca0)\n",
      "\n",
      "QObject::moveToThread: Current thread (0x55c247005ca0) is not the object's thread (0x55c2462dfbb0).\n",
      "Cannot move to target thread (0x55c247005ca0)\n",
      "\n",
      "QObject::moveToThread: Current thread (0x55c247005ca0) is not the object's thread (0x55c2462dfbb0).\n",
      "Cannot move to target thread (0x55c247005ca0)\n",
      "\n",
      "QObject::moveToThread: Current thread (0x55c247005ca0) is not the object's thread (0x55c2462dfbb0).\n",
      "Cannot move to target thread (0x55c247005ca0)\n",
      "\n",
      "QObject::moveToThread: Current thread (0x55c247005ca0) is not the object's thread (0x55c2462dfbb0).\n",
      "Cannot move to target thread (0x55c247005ca0)\n",
      "\n",
      "QObject::moveToThread: Current thread (0x55c247005ca0) is not the object's thread (0x55c2462dfbb0).\n",
      "Cannot move to target thread (0x55c247005ca0)\n",
      "\n",
      "QObject::moveToThread: Current thread (0x55c247005ca0) is not the object's thread (0x55c2462dfbb0).\n",
      "Cannot move to target thread (0x55c247005ca0)\n",
      "\n",
      "QObject::moveToThread: Current thread (0x55c247005ca0) is not the object's thread (0x55c2462dfbb0).\n",
      "Cannot move to target thread (0x55c247005ca0)\n",
      "\n",
      "QObject::moveToThread: Current thread (0x55c247005ca0) is not the object's thread (0x55c2462dfbb0).\n",
      "Cannot move to target thread (0x55c247005ca0)\n",
      "\n",
      "QObject::moveToThread: Current thread (0x55c247005ca0) is not the object's thread (0x55c2462dfbb0).\n",
      "Cannot move to target thread (0x55c247005ca0)\n",
      "\n",
      "QObject::moveToThread: Current thread (0x55c247005ca0) is not the object's thread (0x55c2462dfbb0).\n",
      "Cannot move to target thread (0x55c247005ca0)\n",
      "\n",
      "QObject::moveToThread: Current thread (0x55c247005ca0) is not the object's thread (0x55c2462dfbb0).\n",
      "Cannot move to target thread (0x55c247005ca0)\n",
      "\n",
      "QObject::moveToThread: Current thread (0x55c247005ca0) is not the object's thread (0x55c2462dfbb0).\n",
      "Cannot move to target thread (0x55c247005ca0)\n",
      "\n",
      "QObject::moveToThread: Current thread (0x55c247005ca0) is not the object's thread (0x55c2462dfbb0).\n",
      "Cannot move to target thread (0x55c247005ca0)\n",
      "\n",
      "QObject::moveToThread: Current thread (0x55c247005ca0) is not the object's thread (0x55c2462dfbb0).\n",
      "Cannot move to target thread (0x55c247005ca0)\n",
      "\n",
      "QObject::moveToThread: Current thread (0x55c247005ca0) is not the object's thread (0x55c2462dfbb0).\n",
      "Cannot move to target thread (0x55c247005ca0)\n",
      "\n",
      "QObject::moveToThread: Current thread (0x55c247005ca0) is not the object's thread (0x55c2462dfbb0).\n",
      "Cannot move to target thread (0x55c247005ca0)\n",
      "\n",
      "QObject::moveToThread: Current thread (0x55c247005ca0) is not the object's thread (0x55c2462dfbb0).\n",
      "Cannot move to target thread (0x55c247005ca0)\n",
      "\n",
      "QObject::moveToThread: Current thread (0x55c247005ca0) is not the object's thread (0x55c2462dfbb0).\n",
      "Cannot move to target thread (0x55c247005ca0)\n",
      "\n",
      "QObject::moveToThread: Current thread (0x55c247005ca0) is not the object's thread (0x55c2462dfbb0).\n",
      "Cannot move to target thread (0x55c247005ca0)\n",
      "\n",
      "QObject::moveToThread: Current thread (0x55c247005ca0) is not the object's thread (0x55c2462dfbb0).\n",
      "Cannot move to target thread (0x55c247005ca0)\n",
      "\n",
      "QObject::moveToThread: Current thread (0x55c247005ca0) is not the object's thread (0x55c2462dfbb0).\n",
      "Cannot move to target thread (0x55c247005ca0)\n",
      "\n",
      "QObject::moveToThread: Current thread (0x55c247005ca0) is not the object's thread (0x55c2462dfbb0).\n",
      "Cannot move to target thread (0x55c247005ca0)\n",
      "\n",
      "QObject::moveToThread: Current thread (0x55c247005ca0) is not the object's thread (0x55c2462dfbb0).\n",
      "Cannot move to target thread (0x55c247005ca0)\n",
      "\n",
      "QObject::moveToThread: Current thread (0x55c247005ca0) is not the object's thread (0x55c2462dfbb0).\n",
      "Cannot move to target thread (0x55c247005ca0)\n",
      "\n",
      "QObject::moveToThread: Current thread (0x55c247005ca0) is not the object's thread (0x55c2462dfbb0).\n",
      "Cannot move to target thread (0x55c247005ca0)\n",
      "\n",
      "QObject::moveToThread: Current thread (0x55c247005ca0) is not the object's thread (0x55c2462dfbb0).\n",
      "Cannot move to target thread (0x55c247005ca0)\n",
      "\n",
      "QObject::moveToThread: Current thread (0x55c247005ca0) is not the object's thread (0x55c2462dfbb0).\n",
      "Cannot move to target thread (0x55c247005ca0)\n",
      "\n",
      "QObject::moveToThread: Current thread (0x55c247005ca0) is not the object's thread (0x55c2462dfbb0).\n",
      "Cannot move to target thread (0x55c247005ca0)\n",
      "\n",
      "QObject::moveToThread: Current thread (0x55c247005ca0) is not the object's thread (0x55c2462dfbb0).\n",
      "Cannot move to target thread (0x55c247005ca0)\n",
      "\n",
      "QObject::moveToThread: Current thread (0x55c247005ca0) is not the object's thread (0x55c2462dfbb0).\n",
      "Cannot move to target thread (0x55c247005ca0)\n",
      "\n",
      "QObject::moveToThread: Current thread (0x55c247005ca0) is not the object's thread (0x55c2462dfbb0).\n",
      "Cannot move to target thread (0x55c247005ca0)\n",
      "\n",
      "QObject::moveToThread: Current thread (0x55c247005ca0) is not the object's thread (0x55c2462dfbb0).\n",
      "Cannot move to target thread (0x55c247005ca0)\n",
      "\n"
     ]
    },
    {
     "data": {
      "application/javascript": [
       "\n",
       "        if (window._pyforest_update_imports_cell) { window._pyforest_update_imports_cell('import cv2'); }\n",
       "    "
      ],
      "text/plain": [
       "<IPython.core.display.Javascript object>"
      ]
     },
     "metadata": {},
     "output_type": "display_data"
    },
    {
     "data": {
      "application/javascript": [
       "\n",
       "        if (window._pyforest_update_imports_cell) { window._pyforest_update_imports_cell('import cv2'); }\n",
       "    "
      ],
      "text/plain": [
       "<IPython.core.display.Javascript object>"
      ]
     },
     "metadata": {},
     "output_type": "display_data"
    },
    {
     "data": {
      "application/javascript": [
       "\n",
       "        if (window._pyforest_update_imports_cell) { window._pyforest_update_imports_cell('import cv2'); }\n",
       "    "
      ],
      "text/plain": [
       "<IPython.core.display.Javascript object>"
      ]
     },
     "metadata": {},
     "output_type": "display_data"
    },
    {
     "data": {
      "application/javascript": [
       "\n",
       "        if (window._pyforest_update_imports_cell) { window._pyforest_update_imports_cell('import cv2'); }\n",
       "    "
      ],
      "text/plain": [
       "<IPython.core.display.Javascript object>"
      ]
     },
     "metadata": {},
     "output_type": "display_data"
    },
    {
     "data": {
      "application/javascript": [
       "\n",
       "        if (window._pyforest_update_imports_cell) { window._pyforest_update_imports_cell('import cv2'); }\n",
       "    "
      ],
      "text/plain": [
       "<IPython.core.display.Javascript object>"
      ]
     },
     "metadata": {},
     "output_type": "display_data"
    },
    {
     "data": {
      "application/javascript": [
       "\n",
       "        if (window._pyforest_update_imports_cell) { window._pyforest_update_imports_cell('import cv2'); }\n",
       "    "
      ],
      "text/plain": [
       "<IPython.core.display.Javascript object>"
      ]
     },
     "metadata": {},
     "output_type": "display_data"
    },
    {
     "data": {
      "application/javascript": [
       "\n",
       "        if (window._pyforest_update_imports_cell) { window._pyforest_update_imports_cell('import cv2'); }\n",
       "    "
      ],
      "text/plain": [
       "<IPython.core.display.Javascript object>"
      ]
     },
     "metadata": {},
     "output_type": "display_data"
    },
    {
     "data": {
      "application/javascript": [
       "\n",
       "        if (window._pyforest_update_imports_cell) { window._pyforest_update_imports_cell('import cv2'); }\n",
       "    "
      ],
      "text/plain": [
       "<IPython.core.display.Javascript object>"
      ]
     },
     "metadata": {},
     "output_type": "display_data"
    },
    {
     "data": {
      "application/javascript": [
       "\n",
       "        if (window._pyforest_update_imports_cell) { window._pyforest_update_imports_cell('import cv2'); }\n",
       "    "
      ],
      "text/plain": [
       "<IPython.core.display.Javascript object>"
      ]
     },
     "metadata": {},
     "output_type": "display_data"
    },
    {
     "data": {
      "application/javascript": [
       "\n",
       "        if (window._pyforest_update_imports_cell) { window._pyforest_update_imports_cell('import cv2'); }\n",
       "    "
      ],
      "text/plain": [
       "<IPython.core.display.Javascript object>"
      ]
     },
     "metadata": {},
     "output_type": "display_data"
    },
    {
     "data": {
      "application/javascript": [
       "\n",
       "        if (window._pyforest_update_imports_cell) { window._pyforest_update_imports_cell('import cv2'); }\n",
       "    "
      ],
      "text/plain": [
       "<IPython.core.display.Javascript object>"
      ]
     },
     "metadata": {},
     "output_type": "display_data"
    },
    {
     "data": {
      "application/javascript": [
       "\n",
       "        if (window._pyforest_update_imports_cell) { window._pyforest_update_imports_cell('import cv2'); }\n",
       "    "
      ],
      "text/plain": [
       "<IPython.core.display.Javascript object>"
      ]
     },
     "metadata": {},
     "output_type": "display_data"
    },
    {
     "data": {
      "application/javascript": [
       "\n",
       "        if (window._pyforest_update_imports_cell) { window._pyforest_update_imports_cell('import cv2'); }\n",
       "    "
      ],
      "text/plain": [
       "<IPython.core.display.Javascript object>"
      ]
     },
     "metadata": {},
     "output_type": "display_data"
    },
    {
     "data": {
      "application/javascript": [
       "\n",
       "        if (window._pyforest_update_imports_cell) { window._pyforest_update_imports_cell('import cv2'); }\n",
       "    "
      ],
      "text/plain": [
       "<IPython.core.display.Javascript object>"
      ]
     },
     "metadata": {},
     "output_type": "display_data"
    },
    {
     "data": {
      "application/javascript": [
       "\n",
       "        if (window._pyforest_update_imports_cell) { window._pyforest_update_imports_cell('import cv2'); }\n",
       "    "
      ],
      "text/plain": [
       "<IPython.core.display.Javascript object>"
      ]
     },
     "metadata": {},
     "output_type": "display_data"
    },
    {
     "data": {
      "application/javascript": [
       "\n",
       "        if (window._pyforest_update_imports_cell) { window._pyforest_update_imports_cell('import cv2'); }\n",
       "    "
      ],
      "text/plain": [
       "<IPython.core.display.Javascript object>"
      ]
     },
     "metadata": {},
     "output_type": "display_data"
    },
    {
     "data": {
      "application/javascript": [
       "\n",
       "        if (window._pyforest_update_imports_cell) { window._pyforest_update_imports_cell('import cv2'); }\n",
       "    "
      ],
      "text/plain": [
       "<IPython.core.display.Javascript object>"
      ]
     },
     "metadata": {},
     "output_type": "display_data"
    },
    {
     "data": {
      "application/javascript": [
       "\n",
       "        if (window._pyforest_update_imports_cell) { window._pyforest_update_imports_cell('import cv2'); }\n",
       "    "
      ],
      "text/plain": [
       "<IPython.core.display.Javascript object>"
      ]
     },
     "metadata": {},
     "output_type": "display_data"
    },
    {
     "data": {
      "application/javascript": [
       "\n",
       "        if (window._pyforest_update_imports_cell) { window._pyforest_update_imports_cell('import cv2'); }\n",
       "    "
      ],
      "text/plain": [
       "<IPython.core.display.Javascript object>"
      ]
     },
     "metadata": {},
     "output_type": "display_data"
    },
    {
     "data": {
      "application/javascript": [
       "\n",
       "        if (window._pyforest_update_imports_cell) { window._pyforest_update_imports_cell('import cv2'); }\n",
       "    "
      ],
      "text/plain": [
       "<IPython.core.display.Javascript object>"
      ]
     },
     "metadata": {},
     "output_type": "display_data"
    },
    {
     "data": {
      "application/javascript": [
       "\n",
       "        if (window._pyforest_update_imports_cell) { window._pyforest_update_imports_cell('import cv2'); }\n",
       "    "
      ],
      "text/plain": [
       "<IPython.core.display.Javascript object>"
      ]
     },
     "metadata": {},
     "output_type": "display_data"
    },
    {
     "data": {
      "application/javascript": [
       "\n",
       "        if (window._pyforest_update_imports_cell) { window._pyforest_update_imports_cell('import cv2'); }\n",
       "    "
      ],
      "text/plain": [
       "<IPython.core.display.Javascript object>"
      ]
     },
     "metadata": {},
     "output_type": "display_data"
    },
    {
     "data": {
      "application/javascript": [
       "\n",
       "        if (window._pyforest_update_imports_cell) { window._pyforest_update_imports_cell('import cv2'); }\n",
       "    "
      ],
      "text/plain": [
       "<IPython.core.display.Javascript object>"
      ]
     },
     "metadata": {},
     "output_type": "display_data"
    },
    {
     "data": {
      "application/javascript": [
       "\n",
       "        if (window._pyforest_update_imports_cell) { window._pyforest_update_imports_cell('import cv2'); }\n",
       "    "
      ],
      "text/plain": [
       "<IPython.core.display.Javascript object>"
      ]
     },
     "metadata": {},
     "output_type": "display_data"
    },
    {
     "data": {
      "application/javascript": [
       "\n",
       "        if (window._pyforest_update_imports_cell) { window._pyforest_update_imports_cell('import cv2'); }\n",
       "    "
      ],
      "text/plain": [
       "<IPython.core.display.Javascript object>"
      ]
     },
     "metadata": {},
     "output_type": "display_data"
    },
    {
     "data": {
      "application/javascript": [
       "\n",
       "        if (window._pyforest_update_imports_cell) { window._pyforest_update_imports_cell('import cv2'); }\n",
       "    "
      ],
      "text/plain": [
       "<IPython.core.display.Javascript object>"
      ]
     },
     "metadata": {},
     "output_type": "display_data"
    },
    {
     "data": {
      "application/javascript": [
       "\n",
       "        if (window._pyforest_update_imports_cell) { window._pyforest_update_imports_cell('import cv2'); }\n",
       "    "
      ],
      "text/plain": [
       "<IPython.core.display.Javascript object>"
      ]
     },
     "metadata": {},
     "output_type": "display_data"
    },
    {
     "data": {
      "application/javascript": [
       "\n",
       "        if (window._pyforest_update_imports_cell) { window._pyforest_update_imports_cell('import cv2'); }\n",
       "    "
      ],
      "text/plain": [
       "<IPython.core.display.Javascript object>"
      ]
     },
     "metadata": {},
     "output_type": "display_data"
    },
    {
     "data": {
      "application/javascript": [
       "\n",
       "        if (window._pyforest_update_imports_cell) { window._pyforest_update_imports_cell('import cv2'); }\n",
       "    "
      ],
      "text/plain": [
       "<IPython.core.display.Javascript object>"
      ]
     },
     "metadata": {},
     "output_type": "display_data"
    },
    {
     "data": {
      "application/javascript": [
       "\n",
       "        if (window._pyforest_update_imports_cell) { window._pyforest_update_imports_cell('import cv2'); }\n",
       "    "
      ],
      "text/plain": [
       "<IPython.core.display.Javascript object>"
      ]
     },
     "metadata": {},
     "output_type": "display_data"
    },
    {
     "data": {
      "application/javascript": [
       "\n",
       "        if (window._pyforest_update_imports_cell) { window._pyforest_update_imports_cell('import cv2'); }\n",
       "    "
      ],
      "text/plain": [
       "<IPython.core.display.Javascript object>"
      ]
     },
     "metadata": {},
     "output_type": "display_data"
    },
    {
     "data": {
      "application/javascript": [
       "\n",
       "        if (window._pyforest_update_imports_cell) { window._pyforest_update_imports_cell('import cv2'); }\n",
       "    "
      ],
      "text/plain": [
       "<IPython.core.display.Javascript object>"
      ]
     },
     "metadata": {},
     "output_type": "display_data"
    },
    {
     "data": {
      "application/javascript": [
       "\n",
       "        if (window._pyforest_update_imports_cell) { window._pyforest_update_imports_cell('import cv2'); }\n",
       "    "
      ],
      "text/plain": [
       "<IPython.core.display.Javascript object>"
      ]
     },
     "metadata": {},
     "output_type": "display_data"
    },
    {
     "data": {
      "application/javascript": [
       "\n",
       "        if (window._pyforest_update_imports_cell) { window._pyforest_update_imports_cell('import cv2'); }\n",
       "    "
      ],
      "text/plain": [
       "<IPython.core.display.Javascript object>"
      ]
     },
     "metadata": {},
     "output_type": "display_data"
    },
    {
     "data": {
      "application/javascript": [
       "\n",
       "        if (window._pyforest_update_imports_cell) { window._pyforest_update_imports_cell('import cv2'); }\n",
       "    "
      ],
      "text/plain": [
       "<IPython.core.display.Javascript object>"
      ]
     },
     "metadata": {},
     "output_type": "display_data"
    },
    {
     "data": {
      "application/javascript": [
       "\n",
       "        if (window._pyforest_update_imports_cell) { window._pyforest_update_imports_cell('import cv2'); }\n",
       "    "
      ],
      "text/plain": [
       "<IPython.core.display.Javascript object>"
      ]
     },
     "metadata": {},
     "output_type": "display_data"
    },
    {
     "data": {
      "application/javascript": [
       "\n",
       "        if (window._pyforest_update_imports_cell) { window._pyforest_update_imports_cell('import cv2'); }\n",
       "    "
      ],
      "text/plain": [
       "<IPython.core.display.Javascript object>"
      ]
     },
     "metadata": {},
     "output_type": "display_data"
    },
    {
     "data": {
      "application/javascript": [
       "\n",
       "        if (window._pyforest_update_imports_cell) { window._pyforest_update_imports_cell('import cv2'); }\n",
       "    "
      ],
      "text/plain": [
       "<IPython.core.display.Javascript object>"
      ]
     },
     "metadata": {},
     "output_type": "display_data"
    },
    {
     "data": {
      "application/javascript": [
       "\n",
       "        if (window._pyforest_update_imports_cell) { window._pyforest_update_imports_cell('import cv2'); }\n",
       "    "
      ],
      "text/plain": [
       "<IPython.core.display.Javascript object>"
      ]
     },
     "metadata": {},
     "output_type": "display_data"
    },
    {
     "data": {
      "application/javascript": [
       "\n",
       "        if (window._pyforest_update_imports_cell) { window._pyforest_update_imports_cell('import cv2'); }\n",
       "    "
      ],
      "text/plain": [
       "<IPython.core.display.Javascript object>"
      ]
     },
     "metadata": {},
     "output_type": "display_data"
    },
    {
     "data": {
      "application/javascript": [
       "\n",
       "        if (window._pyforest_update_imports_cell) { window._pyforest_update_imports_cell('import cv2'); }\n",
       "    "
      ],
      "text/plain": [
       "<IPython.core.display.Javascript object>"
      ]
     },
     "metadata": {},
     "output_type": "display_data"
    },
    {
     "data": {
      "application/javascript": [
       "\n",
       "        if (window._pyforest_update_imports_cell) { window._pyforest_update_imports_cell('import cv2'); }\n",
       "    "
      ],
      "text/plain": [
       "<IPython.core.display.Javascript object>"
      ]
     },
     "metadata": {},
     "output_type": "display_data"
    },
    {
     "data": {
      "application/javascript": [
       "\n",
       "        if (window._pyforest_update_imports_cell) { window._pyforest_update_imports_cell('import cv2'); }\n",
       "    "
      ],
      "text/plain": [
       "<IPython.core.display.Javascript object>"
      ]
     },
     "metadata": {},
     "output_type": "display_data"
    },
    {
     "data": {
      "application/javascript": [
       "\n",
       "        if (window._pyforest_update_imports_cell) { window._pyforest_update_imports_cell('import cv2'); }\n",
       "    "
      ],
      "text/plain": [
       "<IPython.core.display.Javascript object>"
      ]
     },
     "metadata": {},
     "output_type": "display_data"
    },
    {
     "data": {
      "application/javascript": [
       "\n",
       "        if (window._pyforest_update_imports_cell) { window._pyforest_update_imports_cell('import cv2'); }\n",
       "    "
      ],
      "text/plain": [
       "<IPython.core.display.Javascript object>"
      ]
     },
     "metadata": {},
     "output_type": "display_data"
    },
    {
     "data": {
      "application/javascript": [
       "\n",
       "        if (window._pyforest_update_imports_cell) { window._pyforest_update_imports_cell('import cv2'); }\n",
       "    "
      ],
      "text/plain": [
       "<IPython.core.display.Javascript object>"
      ]
     },
     "metadata": {},
     "output_type": "display_data"
    },
    {
     "data": {
      "application/javascript": [
       "\n",
       "        if (window._pyforest_update_imports_cell) { window._pyforest_update_imports_cell('import cv2'); }\n",
       "    "
      ],
      "text/plain": [
       "<IPython.core.display.Javascript object>"
      ]
     },
     "metadata": {},
     "output_type": "display_data"
    },
    {
     "data": {
      "application/javascript": [
       "\n",
       "        if (window._pyforest_update_imports_cell) { window._pyforest_update_imports_cell('import cv2'); }\n",
       "    "
      ],
      "text/plain": [
       "<IPython.core.display.Javascript object>"
      ]
     },
     "metadata": {},
     "output_type": "display_data"
    },
    {
     "data": {
      "application/javascript": [
       "\n",
       "        if (window._pyforest_update_imports_cell) { window._pyforest_update_imports_cell('import cv2'); }\n",
       "    "
      ],
      "text/plain": [
       "<IPython.core.display.Javascript object>"
      ]
     },
     "metadata": {},
     "output_type": "display_data"
    },
    {
     "data": {
      "application/javascript": [
       "\n",
       "        if (window._pyforest_update_imports_cell) { window._pyforest_update_imports_cell('import cv2'); }\n",
       "    "
      ],
      "text/plain": [
       "<IPython.core.display.Javascript object>"
      ]
     },
     "metadata": {},
     "output_type": "display_data"
    },
    {
     "data": {
      "application/javascript": [
       "\n",
       "        if (window._pyforest_update_imports_cell) { window._pyforest_update_imports_cell('import cv2'); }\n",
       "    "
      ],
      "text/plain": [
       "<IPython.core.display.Javascript object>"
      ]
     },
     "metadata": {},
     "output_type": "display_data"
    },
    {
     "data": {
      "application/javascript": [
       "\n",
       "        if (window._pyforest_update_imports_cell) { window._pyforest_update_imports_cell('import cv2'); }\n",
       "    "
      ],
      "text/plain": [
       "<IPython.core.display.Javascript object>"
      ]
     },
     "metadata": {},
     "output_type": "display_data"
    },
    {
     "data": {
      "application/javascript": [
       "\n",
       "        if (window._pyforest_update_imports_cell) { window._pyforest_update_imports_cell('import cv2'); }\n",
       "    "
      ],
      "text/plain": [
       "<IPython.core.display.Javascript object>"
      ]
     },
     "metadata": {},
     "output_type": "display_data"
    },
    {
     "data": {
      "application/javascript": [
       "\n",
       "        if (window._pyforest_update_imports_cell) { window._pyforest_update_imports_cell('import cv2'); }\n",
       "    "
      ],
      "text/plain": [
       "<IPython.core.display.Javascript object>"
      ]
     },
     "metadata": {},
     "output_type": "display_data"
    },
    {
     "data": {
      "application/javascript": [
       "\n",
       "        if (window._pyforest_update_imports_cell) { window._pyforest_update_imports_cell('import cv2'); }\n",
       "    "
      ],
      "text/plain": [
       "<IPython.core.display.Javascript object>"
      ]
     },
     "metadata": {},
     "output_type": "display_data"
    },
    {
     "data": {
      "application/javascript": [
       "\n",
       "        if (window._pyforest_update_imports_cell) { window._pyforest_update_imports_cell('import cv2'); }\n",
       "    "
      ],
      "text/plain": [
       "<IPython.core.display.Javascript object>"
      ]
     },
     "metadata": {},
     "output_type": "display_data"
    },
    {
     "data": {
      "application/javascript": [
       "\n",
       "        if (window._pyforest_update_imports_cell) { window._pyforest_update_imports_cell('import cv2'); }\n",
       "    "
      ],
      "text/plain": [
       "<IPython.core.display.Javascript object>"
      ]
     },
     "metadata": {},
     "output_type": "display_data"
    },
    {
     "data": {
      "application/javascript": [
       "\n",
       "        if (window._pyforest_update_imports_cell) { window._pyforest_update_imports_cell('import cv2'); }\n",
       "    "
      ],
      "text/plain": [
       "<IPython.core.display.Javascript object>"
      ]
     },
     "metadata": {},
     "output_type": "display_data"
    },
    {
     "data": {
      "application/javascript": [
       "\n",
       "        if (window._pyforest_update_imports_cell) { window._pyforest_update_imports_cell('import cv2'); }\n",
       "    "
      ],
      "text/plain": [
       "<IPython.core.display.Javascript object>"
      ]
     },
     "metadata": {},
     "output_type": "display_data"
    },
    {
     "data": {
      "application/javascript": [
       "\n",
       "        if (window._pyforest_update_imports_cell) { window._pyforest_update_imports_cell('import cv2'); }\n",
       "    "
      ],
      "text/plain": [
       "<IPython.core.display.Javascript object>"
      ]
     },
     "metadata": {},
     "output_type": "display_data"
    },
    {
     "data": {
      "application/javascript": [
       "\n",
       "        if (window._pyforest_update_imports_cell) { window._pyforest_update_imports_cell('import cv2'); }\n",
       "    "
      ],
      "text/plain": [
       "<IPython.core.display.Javascript object>"
      ]
     },
     "metadata": {},
     "output_type": "display_data"
    },
    {
     "data": {
      "application/javascript": [
       "\n",
       "        if (window._pyforest_update_imports_cell) { window._pyforest_update_imports_cell('import cv2'); }\n",
       "    "
      ],
      "text/plain": [
       "<IPython.core.display.Javascript object>"
      ]
     },
     "metadata": {},
     "output_type": "display_data"
    },
    {
     "data": {
      "application/javascript": [
       "\n",
       "        if (window._pyforest_update_imports_cell) { window._pyforest_update_imports_cell('import cv2'); }\n",
       "    "
      ],
      "text/plain": [
       "<IPython.core.display.Javascript object>"
      ]
     },
     "metadata": {},
     "output_type": "display_data"
    },
    {
     "data": {
      "application/javascript": [
       "\n",
       "        if (window._pyforest_update_imports_cell) { window._pyforest_update_imports_cell('import cv2'); }\n",
       "    "
      ],
      "text/plain": [
       "<IPython.core.display.Javascript object>"
      ]
     },
     "metadata": {},
     "output_type": "display_data"
    },
    {
     "data": {
      "application/javascript": [
       "\n",
       "        if (window._pyforest_update_imports_cell) { window._pyforest_update_imports_cell('import cv2'); }\n",
       "    "
      ],
      "text/plain": [
       "<IPython.core.display.Javascript object>"
      ]
     },
     "metadata": {},
     "output_type": "display_data"
    },
    {
     "data": {
      "application/javascript": [
       "\n",
       "        if (window._pyforest_update_imports_cell) { window._pyforest_update_imports_cell('import cv2'); }\n",
       "    "
      ],
      "text/plain": [
       "<IPython.core.display.Javascript object>"
      ]
     },
     "metadata": {},
     "output_type": "display_data"
    },
    {
     "data": {
      "application/javascript": [
       "\n",
       "        if (window._pyforest_update_imports_cell) { window._pyforest_update_imports_cell('import cv2'); }\n",
       "    "
      ],
      "text/plain": [
       "<IPython.core.display.Javascript object>"
      ]
     },
     "metadata": {},
     "output_type": "display_data"
    },
    {
     "data": {
      "application/javascript": [
       "\n",
       "        if (window._pyforest_update_imports_cell) { window._pyforest_update_imports_cell('import cv2'); }\n",
       "    "
      ],
      "text/plain": [
       "<IPython.core.display.Javascript object>"
      ]
     },
     "metadata": {},
     "output_type": "display_data"
    },
    {
     "data": {
      "application/javascript": [
       "\n",
       "        if (window._pyforest_update_imports_cell) { window._pyforest_update_imports_cell('import cv2'); }\n",
       "    "
      ],
      "text/plain": [
       "<IPython.core.display.Javascript object>"
      ]
     },
     "metadata": {},
     "output_type": "display_data"
    },
    {
     "data": {
      "application/javascript": [
       "\n",
       "        if (window._pyforest_update_imports_cell) { window._pyforest_update_imports_cell('import cv2'); }\n",
       "    "
      ],
      "text/plain": [
       "<IPython.core.display.Javascript object>"
      ]
     },
     "metadata": {},
     "output_type": "display_data"
    },
    {
     "data": {
      "application/javascript": [
       "\n",
       "        if (window._pyforest_update_imports_cell) { window._pyforest_update_imports_cell('import cv2'); }\n",
       "    "
      ],
      "text/plain": [
       "<IPython.core.display.Javascript object>"
      ]
     },
     "metadata": {},
     "output_type": "display_data"
    },
    {
     "data": {
      "application/javascript": [
       "\n",
       "        if (window._pyforest_update_imports_cell) { window._pyforest_update_imports_cell('import cv2'); }\n",
       "    "
      ],
      "text/plain": [
       "<IPython.core.display.Javascript object>"
      ]
     },
     "metadata": {},
     "output_type": "display_data"
    },
    {
     "data": {
      "application/javascript": [
       "\n",
       "        if (window._pyforest_update_imports_cell) { window._pyforest_update_imports_cell('import cv2'); }\n",
       "    "
      ],
      "text/plain": [
       "<IPython.core.display.Javascript object>"
      ]
     },
     "metadata": {},
     "output_type": "display_data"
    },
    {
     "data": {
      "application/javascript": [
       "\n",
       "        if (window._pyforest_update_imports_cell) { window._pyforest_update_imports_cell('import cv2'); }\n",
       "    "
      ],
      "text/plain": [
       "<IPython.core.display.Javascript object>"
      ]
     },
     "metadata": {},
     "output_type": "display_data"
    },
    {
     "data": {
      "application/javascript": [
       "\n",
       "        if (window._pyforest_update_imports_cell) { window._pyforest_update_imports_cell('import cv2'); }\n",
       "    "
      ],
      "text/plain": [
       "<IPython.core.display.Javascript object>"
      ]
     },
     "metadata": {},
     "output_type": "display_data"
    },
    {
     "data": {
      "application/javascript": [
       "\n",
       "        if (window._pyforest_update_imports_cell) { window._pyforest_update_imports_cell('import cv2'); }\n",
       "    "
      ],
      "text/plain": [
       "<IPython.core.display.Javascript object>"
      ]
     },
     "metadata": {},
     "output_type": "display_data"
    },
    {
     "data": {
      "application/javascript": [
       "\n",
       "        if (window._pyforest_update_imports_cell) { window._pyforest_update_imports_cell('import cv2'); }\n",
       "    "
      ],
      "text/plain": [
       "<IPython.core.display.Javascript object>"
      ]
     },
     "metadata": {},
     "output_type": "display_data"
    },
    {
     "data": {
      "application/javascript": [
       "\n",
       "        if (window._pyforest_update_imports_cell) { window._pyforest_update_imports_cell('import cv2'); }\n",
       "    "
      ],
      "text/plain": [
       "<IPython.core.display.Javascript object>"
      ]
     },
     "metadata": {},
     "output_type": "display_data"
    },
    {
     "data": {
      "application/javascript": [
       "\n",
       "        if (window._pyforest_update_imports_cell) { window._pyforest_update_imports_cell('import cv2'); }\n",
       "    "
      ],
      "text/plain": [
       "<IPython.core.display.Javascript object>"
      ]
     },
     "metadata": {},
     "output_type": "display_data"
    },
    {
     "data": {
      "application/javascript": [
       "\n",
       "        if (window._pyforest_update_imports_cell) { window._pyforest_update_imports_cell('import cv2'); }\n",
       "    "
      ],
      "text/plain": [
       "<IPython.core.display.Javascript object>"
      ]
     },
     "metadata": {},
     "output_type": "display_data"
    },
    {
     "data": {
      "application/javascript": [
       "\n",
       "        if (window._pyforest_update_imports_cell) { window._pyforest_update_imports_cell('import cv2'); }\n",
       "    "
      ],
      "text/plain": [
       "<IPython.core.display.Javascript object>"
      ]
     },
     "metadata": {},
     "output_type": "display_data"
    }
   ],
   "source": [
    "cam = cv2.VideoCapture(-1)\n",
    "while cam.isOpened():\n",
    "    ret, frame = cam.read()\n",
    "    if cv2.waitKey(10) == ord('q'):\n",
    "        break\n",
    "    cv2.imshow('Granny Cam', frame)"
   ]
  },
  {
   "cell_type": "code",
   "execution_count": null,
   "id": "8efcf0bf",
   "metadata": {},
   "outputs": [],
   "source": []
  }
 ],
 "metadata": {
  "kernelspec": {
   "display_name": "Python 3 (ipykernel)",
   "language": "python",
   "name": "python3"
  },
  "language_info": {
   "codemirror_mode": {
    "name": "ipython",
    "version": 3
   },
   "file_extension": ".py",
   "mimetype": "text/x-python",
   "name": "python",
   "nbconvert_exporter": "python",
   "pygments_lexer": "ipython3",
   "version": "3.9.12"
  }
 },
 "nbformat": 4,
 "nbformat_minor": 5
}
