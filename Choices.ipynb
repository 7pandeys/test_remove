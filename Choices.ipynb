{
 "cells": [
  {
   "cell_type": "code",
   "execution_count": 4,
   "id": "8481b919",
   "metadata": {},
   "outputs": [
    {
     "name": "stdout",
     "output_type": "stream",
     "text": [
      "Enter the choice0\n",
      "what you are today Sandeep because of your choices\n"
     ]
    }
   ],
   "source": [
    "Choice = [\"Small\", \"Big\"]\n",
    "value = int(input(\"Enter the choice\"))\n",
    "if value == 1:\n",
    "    print(f\"You had only one choice and chose {Choice[value]} One.\")\n",
    "else:\n",
    "    print(f'what you are today Sandeep because of your choices')"
   ]
  },
  {
   "cell_type": "code",
   "execution_count": null,
   "id": "433cb757",
   "metadata": {},
   "outputs": [],
   "source": []
  }
 ],
 "metadata": {
  "kernelspec": {
   "display_name": "Python 3 (ipykernel)",
   "language": "python",
   "name": "python3"
  },
  "language_info": {
   "codemirror_mode": {
    "name": "ipython",
    "version": 3
   },
   "file_extension": ".py",
   "mimetype": "text/x-python",
   "name": "python",
   "nbconvert_exporter": "python",
   "pygments_lexer": "ipython3",
   "version": "3.9.12"
  }
 },
 "nbformat": 4,
 "nbformat_minor": 5
}
