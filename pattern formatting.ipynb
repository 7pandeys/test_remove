{
 "cells": [
  {
   "cell_type": "code",
   "execution_count": 45,
   "id": "ddde1b1e",
   "metadata": {},
   "outputs": [
    {
     "name": "stdout",
     "output_type": "stream",
     "text": [
      "#😴😴😴😴#🥱🥱🥱🥱\n",
      "G😴😴😴😴G🥱🥱🥱🥱\n",
      "O😴😴😴😴O🥱🥱🥱🥱\n",
      "O😴😴😴😴O🥱🥱🥱🥱\n",
      "D😴😴😴😴D🥱🥱🥱🥱\n",
      "*😴😴😴😴*🥱🥱🥱🥱\n",
      "*😴😴😴😴*🥱🥱🥱🥱\n",
      "*😴😴😴😴*🥱🥱🥱🥱\n",
      "N😴😴😴😴N🥱🥱🥱🥱\n",
      "I😴😴😴😴I🥱🥱🥱🥱\n",
      "G😴😴😴😴G🥱🥱🥱🥱\n",
      "H😴😴😴😴H🥱🥱🥱🥱\n",
      "T😴😴😴😴T🥱🥱🥱🥱\n",
      "#😴😴😴😴#🥱🥱🥱🥱\n"
     ]
    }
   ],
   "source": [
    "# print(f'{\"Idx\":{10}}{\"num\":{10}}')\n",
    "for idx,num in enumerate(\"#GOOD***NIGHT#\"):\n",
    "    print(f'{num:😴<{5}}{num:🥱<{5}}')"
   ]
  },
  {
   "cell_type": "code",
   "execution_count": 58,
   "id": "169cf689",
   "metadata": {},
   "outputs": [
    {
     "name": "stdout",
     "output_type": "stream",
     "text": [
      "😴😴😴😴😴😴\n",
      "😴😴😴😴😴🥱 \n",
      "😴😴😴😴🥱 🥱 \n",
      "😴😴😴🥱 🥱 🥱 \n",
      "😴😴🥱 🥱 🥱 🥱 \n",
      "😴🥱 🥱 🥱 🥱 🥱 \n"
     ]
    }
   ],
   "source": [
    "for i in range(6,0,-1):\n",
    "    print(f'{str(\"😴\")*i}{str(\"🥱 \")*(6-i)}')"
   ]
  },
  {
   "cell_type": "code",
   "execution_count": null,
   "id": "1c1c33ae",
   "metadata": {},
   "outputs": [],
   "source": []
  }
 ],
 "metadata": {
  "kernelspec": {
   "display_name": "Python 3 (ipykernel)",
   "language": "python",
   "name": "python3"
  },
  "language_info": {
   "codemirror_mode": {
    "name": "ipython",
    "version": 3
   },
   "file_extension": ".py",
   "mimetype": "text/x-python",
   "name": "python",
   "nbconvert_exporter": "python",
   "pygments_lexer": "ipython3",
   "version": "3.9.12"
  }
 },
 "nbformat": 4,
 "nbformat_minor": 5
}
