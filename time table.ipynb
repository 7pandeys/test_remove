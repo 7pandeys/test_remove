{
 "cells": [
  {
   "cell_type": "markdown",
   "id": "1f11cb06",
   "metadata": {},
   "source": [
    "## The more data one see the better data scientist one will become"
   ]
  },
  {
   "cell_type": "code",
   "execution_count": 10,
   "id": "5153ebbb",
   "metadata": {},
   "outputs": [],
   "source": [
    "import pandas as pd"
   ]
  },
  {
   "cell_type": "code",
   "execution_count": 58,
   "id": "28f22492",
   "metadata": {},
   "outputs": [],
   "source": [
    "Task = {\n",
    "    'Reading_Book' : 2,\n",
    "    'New_DataSet' : 4,\n",
    "    'Working_Hours' : 9,\n",
    "    'MLOPS' : 2\n",
    "    \n",
    "    \n",
    "}"
   ]
  },
  {
   "cell_type": "code",
   "execution_count": 59,
   "id": "0665ce72",
   "metadata": {},
   "outputs": [],
   "source": [
    "df_t = pd.DataFrame()"
   ]
  },
  {
   "cell_type": "code",
   "execution_count": 60,
   "id": "13e3b092",
   "metadata": {},
   "outputs": [],
   "source": [
    "df_t['Task'] = Task.keys()"
   ]
  },
  {
   "cell_type": "code",
   "execution_count": 61,
   "id": "5c791989",
   "metadata": {},
   "outputs": [],
   "source": [
    "df_t['hrs'] = Task.values()"
   ]
  },
  {
   "cell_type": "code",
   "execution_count": 62,
   "id": "bd6f927f",
   "metadata": {},
   "outputs": [
    {
     "data": {
      "text/html": [
       "<div>\n",
       "<style scoped>\n",
       "    .dataframe tbody tr th:only-of-type {\n",
       "        vertical-align: middle;\n",
       "    }\n",
       "\n",
       "    .dataframe tbody tr th {\n",
       "        vertical-align: top;\n",
       "    }\n",
       "\n",
       "    .dataframe thead th {\n",
       "        text-align: right;\n",
       "    }\n",
       "</style>\n",
       "<table border=\"1\" class=\"dataframe\">\n",
       "  <thead>\n",
       "    <tr style=\"text-align: right;\">\n",
       "      <th></th>\n",
       "      <th>Task</th>\n",
       "      <th>hrs</th>\n",
       "    </tr>\n",
       "  </thead>\n",
       "  <tbody>\n",
       "    <tr>\n",
       "      <th>0</th>\n",
       "      <td>Reading_Book</td>\n",
       "      <td>2</td>\n",
       "    </tr>\n",
       "    <tr>\n",
       "      <th>1</th>\n",
       "      <td>New_DataSet</td>\n",
       "      <td>4</td>\n",
       "    </tr>\n",
       "    <tr>\n",
       "      <th>2</th>\n",
       "      <td>Working_Hours</td>\n",
       "      <td>9</td>\n",
       "    </tr>\n",
       "    <tr>\n",
       "      <th>3</th>\n",
       "      <td>MLOPS</td>\n",
       "      <td>2</td>\n",
       "    </tr>\n",
       "  </tbody>\n",
       "</table>\n",
       "</div>"
      ],
      "text/plain": [
       "            Task  hrs\n",
       "0   Reading_Book    2\n",
       "1    New_DataSet    4\n",
       "2  Working_Hours    9\n",
       "3          MLOPS    2"
      ]
     },
     "execution_count": 62,
     "metadata": {},
     "output_type": "execute_result"
    }
   ],
   "source": [
    "df_t"
   ]
  },
  {
   "cell_type": "code",
   "execution_count": 112,
   "id": "3725bdee",
   "metadata": {},
   "outputs": [],
   "source": [
    "\n",
    "# function for set text color of positive\n",
    "# values in Dataframes\n",
    "def color_positive_green(v):\n",
    "    \"\"\"\n",
    "    Takes a scalar and returns a string with\n",
    "    the css property `'color: green'` for positive\n",
    "    strings, black otherwise.\n",
    "    \"\"\"\n",
    "    if isinstance(v, int):\n",
    "        if v >= 9 and v <= 18: \n",
    "            color = 'blue'\n",
    "        elif v > 18 or v <= 2:\n",
    "            color = 'green'\n",
    "        elif v < 9 or v > 2:\n",
    "            color = 'red'\n",
    "        else:\n",
    "            color = 'black'\n",
    "        return 'color: %s' % color\n",
    " \n",
    "# df.style.applymap(color_positive_green)"
   ]
  },
  {
   "cell_type": "code",
   "execution_count": 113,
   "id": "40175fa3",
   "metadata": {},
   "outputs": [
    {
     "name": "stdout",
     "output_type": "stream",
     "text": [
      "Total Hours : 24\n",
      "Remaining Hours : 7\n"
     ]
    }
   ],
   "source": [
    "print(\"Total Hours : 24\")\n",
    "used_hours = df_t['hrs'].sum()\n",
    "print(f\"Remaining Hours : {24 - used_hours}\")"
   ]
  },
  {
   "cell_type": "code",
   "execution_count": 114,
   "id": "723fab0c",
   "metadata": {},
   "outputs": [
    {
     "data": {
      "text/html": [
       "<style type=\"text/css\">\n",
       "#T_ee416_row0_col0, #T_ee416_row1_col0, #T_ee416_row18_col0, #T_ee416_row19_col0, #T_ee416_row20_col0, #T_ee416_row21_col0, #T_ee416_row22_col0, #T_ee416_row23_col0 {\n",
       "  color: red;\n",
       "}\n",
       "#T_ee416_row2_col0, #T_ee416_row3_col0, #T_ee416_row4_col0, #T_ee416_row5_col0, #T_ee416_row6_col0, #T_ee416_row7_col0 {\n",
       "  color: green;\n",
       "}\n",
       "#T_ee416_row8_col0, #T_ee416_row9_col0, #T_ee416_row10_col0, #T_ee416_row11_col0, #T_ee416_row12_col0, #T_ee416_row13_col0, #T_ee416_row14_col0, #T_ee416_row15_col0, #T_ee416_row16_col0, #T_ee416_row17_col0 {\n",
       "  color: blue;\n",
       "}\n",
       "</style>\n",
       "<table id=\"T_ee416\">\n",
       "  <thead>\n",
       "    <tr>\n",
       "      <th class=\"blank level0\" >&nbsp;</th>\n",
       "      <th id=\"T_ee416_level0_col0\" class=\"col_heading level0 col0\" >col1</th>\n",
       "      <th id=\"T_ee416_level0_col1\" class=\"col_heading level0 col1\" >col2</th>\n",
       "    </tr>\n",
       "  </thead>\n",
       "  <tbody>\n",
       "    <tr>\n",
       "      <th id=\"T_ee416_level0_row0\" class=\"row_heading level0 row0\" >0</th>\n",
       "      <td id=\"T_ee416_row0_col0\" class=\"data row0 col0\" >4</td>\n",
       "      <td id=\"T_ee416_row0_col1\" class=\"data row0 col1\" >New_DataSet</td>\n",
       "    </tr>\n",
       "    <tr>\n",
       "      <th id=\"T_ee416_level0_row1\" class=\"row_heading level0 row1\" >1</th>\n",
       "      <td id=\"T_ee416_row1_col0\" class=\"data row1 col0\" >4</td>\n",
       "      <td id=\"T_ee416_row1_col1\" class=\"data row1 col1\" >New_DataSet</td>\n",
       "    </tr>\n",
       "    <tr>\n",
       "      <th id=\"T_ee416_level0_row2\" class=\"row_heading level0 row2\" >2</th>\n",
       "      <td id=\"T_ee416_row2_col0\" class=\"data row2 col0\" >2</td>\n",
       "      <td id=\"T_ee416_row2_col1\" class=\"data row2 col1\" >Reading_Book</td>\n",
       "    </tr>\n",
       "    <tr>\n",
       "      <th id=\"T_ee416_level0_row3\" class=\"row_heading level0 row3\" >3</th>\n",
       "      <td id=\"T_ee416_row3_col0\" class=\"data row3 col0\" >2</td>\n",
       "      <td id=\"T_ee416_row3_col1\" class=\"data row3 col1\" >Reading_Book</td>\n",
       "    </tr>\n",
       "    <tr>\n",
       "      <th id=\"T_ee416_level0_row4\" class=\"row_heading level0 row4\" >4</th>\n",
       "      <td id=\"T_ee416_row4_col0\" class=\"data row4 col0\" >2</td>\n",
       "      <td id=\"T_ee416_row4_col1\" class=\"data row4 col1\" >Reading_Book</td>\n",
       "    </tr>\n",
       "    <tr>\n",
       "      <th id=\"T_ee416_level0_row5\" class=\"row_heading level0 row5\" >5</th>\n",
       "      <td id=\"T_ee416_row5_col0\" class=\"data row5 col0\" >2</td>\n",
       "      <td id=\"T_ee416_row5_col1\" class=\"data row5 col1\" >Reading_Book</td>\n",
       "    </tr>\n",
       "    <tr>\n",
       "      <th id=\"T_ee416_level0_row6\" class=\"row_heading level0 row6\" >6</th>\n",
       "      <td id=\"T_ee416_row6_col0\" class=\"data row6 col0\" >2</td>\n",
       "      <td id=\"T_ee416_row6_col1\" class=\"data row6 col1\" >Reading_Book</td>\n",
       "    </tr>\n",
       "    <tr>\n",
       "      <th id=\"T_ee416_level0_row7\" class=\"row_heading level0 row7\" >7</th>\n",
       "      <td id=\"T_ee416_row7_col0\" class=\"data row7 col0\" >2</td>\n",
       "      <td id=\"T_ee416_row7_col1\" class=\"data row7 col1\" >Reading_Book</td>\n",
       "    </tr>\n",
       "    <tr>\n",
       "      <th id=\"T_ee416_level0_row8\" class=\"row_heading level0 row8\" >8</th>\n",
       "      <td id=\"T_ee416_row8_col0\" class=\"data row8 col0\" >9</td>\n",
       "      <td id=\"T_ee416_row8_col1\" class=\"data row8 col1\" >Working_Hours</td>\n",
       "    </tr>\n",
       "    <tr>\n",
       "      <th id=\"T_ee416_level0_row9\" class=\"row_heading level0 row9\" >9</th>\n",
       "      <td id=\"T_ee416_row9_col0\" class=\"data row9 col0\" >9</td>\n",
       "      <td id=\"T_ee416_row9_col1\" class=\"data row9 col1\" >Working_Hours</td>\n",
       "    </tr>\n",
       "    <tr>\n",
       "      <th id=\"T_ee416_level0_row10\" class=\"row_heading level0 row10\" >10</th>\n",
       "      <td id=\"T_ee416_row10_col0\" class=\"data row10 col0\" >9</td>\n",
       "      <td id=\"T_ee416_row10_col1\" class=\"data row10 col1\" >Working_Hours</td>\n",
       "    </tr>\n",
       "    <tr>\n",
       "      <th id=\"T_ee416_level0_row11\" class=\"row_heading level0 row11\" >11</th>\n",
       "      <td id=\"T_ee416_row11_col0\" class=\"data row11 col0\" >9</td>\n",
       "      <td id=\"T_ee416_row11_col1\" class=\"data row11 col1\" >Working_Hours</td>\n",
       "    </tr>\n",
       "    <tr>\n",
       "      <th id=\"T_ee416_level0_row12\" class=\"row_heading level0 row12\" >12</th>\n",
       "      <td id=\"T_ee416_row12_col0\" class=\"data row12 col0\" >9</td>\n",
       "      <td id=\"T_ee416_row12_col1\" class=\"data row12 col1\" >Working_Hours</td>\n",
       "    </tr>\n",
       "    <tr>\n",
       "      <th id=\"T_ee416_level0_row13\" class=\"row_heading level0 row13\" >13</th>\n",
       "      <td id=\"T_ee416_row13_col0\" class=\"data row13 col0\" >9</td>\n",
       "      <td id=\"T_ee416_row13_col1\" class=\"data row13 col1\" >Working_Hours</td>\n",
       "    </tr>\n",
       "    <tr>\n",
       "      <th id=\"T_ee416_level0_row14\" class=\"row_heading level0 row14\" >14</th>\n",
       "      <td id=\"T_ee416_row14_col0\" class=\"data row14 col0\" >9</td>\n",
       "      <td id=\"T_ee416_row14_col1\" class=\"data row14 col1\" >Working_Hours</td>\n",
       "    </tr>\n",
       "    <tr>\n",
       "      <th id=\"T_ee416_level0_row15\" class=\"row_heading level0 row15\" >15</th>\n",
       "      <td id=\"T_ee416_row15_col0\" class=\"data row15 col0\" >9</td>\n",
       "      <td id=\"T_ee416_row15_col1\" class=\"data row15 col1\" >Working_Hours</td>\n",
       "    </tr>\n",
       "    <tr>\n",
       "      <th id=\"T_ee416_level0_row16\" class=\"row_heading level0 row16\" >16</th>\n",
       "      <td id=\"T_ee416_row16_col0\" class=\"data row16 col0\" >9</td>\n",
       "      <td id=\"T_ee416_row16_col1\" class=\"data row16 col1\" >Working_Hours</td>\n",
       "    </tr>\n",
       "    <tr>\n",
       "      <th id=\"T_ee416_level0_row17\" class=\"row_heading level0 row17\" >17</th>\n",
       "      <td id=\"T_ee416_row17_col0\" class=\"data row17 col0\" >9</td>\n",
       "      <td id=\"T_ee416_row17_col1\" class=\"data row17 col1\" >Working_Hours</td>\n",
       "    </tr>\n",
       "    <tr>\n",
       "      <th id=\"T_ee416_level0_row18\" class=\"row_heading level0 row18\" >18</th>\n",
       "      <td id=\"T_ee416_row18_col0\" class=\"data row18 col0\" >4</td>\n",
       "      <td id=\"T_ee416_row18_col1\" class=\"data row18 col1\" >New_DataSet</td>\n",
       "    </tr>\n",
       "    <tr>\n",
       "      <th id=\"T_ee416_level0_row19\" class=\"row_heading level0 row19\" >19</th>\n",
       "      <td id=\"T_ee416_row19_col0\" class=\"data row19 col0\" >4</td>\n",
       "      <td id=\"T_ee416_row19_col1\" class=\"data row19 col1\" >New_DataSet</td>\n",
       "    </tr>\n",
       "    <tr>\n",
       "      <th id=\"T_ee416_level0_row20\" class=\"row_heading level0 row20\" >20</th>\n",
       "      <td id=\"T_ee416_row20_col0\" class=\"data row20 col0\" >4</td>\n",
       "      <td id=\"T_ee416_row20_col1\" class=\"data row20 col1\" >New_DataSet</td>\n",
       "    </tr>\n",
       "    <tr>\n",
       "      <th id=\"T_ee416_level0_row21\" class=\"row_heading level0 row21\" >21</th>\n",
       "      <td id=\"T_ee416_row21_col0\" class=\"data row21 col0\" >4</td>\n",
       "      <td id=\"T_ee416_row21_col1\" class=\"data row21 col1\" >New_DataSet</td>\n",
       "    </tr>\n",
       "    <tr>\n",
       "      <th id=\"T_ee416_level0_row22\" class=\"row_heading level0 row22\" >22</th>\n",
       "      <td id=\"T_ee416_row22_col0\" class=\"data row22 col0\" >4</td>\n",
       "      <td id=\"T_ee416_row22_col1\" class=\"data row22 col1\" >New_DataSet</td>\n",
       "    </tr>\n",
       "    <tr>\n",
       "      <th id=\"T_ee416_level0_row23\" class=\"row_heading level0 row23\" >23</th>\n",
       "      <td id=\"T_ee416_row23_col0\" class=\"data row23 col0\" >4</td>\n",
       "      <td id=\"T_ee416_row23_col1\" class=\"data row23 col1\" >New_DataSet</td>\n",
       "    </tr>\n",
       "  </tbody>\n",
       "</table>\n"
      ],
      "text/plain": [
       "<pandas.io.formats.style.Styler at 0x7f8caeeecb50>"
      ]
     },
     "execution_count": 114,
     "metadata": {},
     "output_type": "execute_result"
    }
   ],
   "source": [
    "df_test = pd.DataFrame(columns=['col1','col2'])\n",
    "cnt = 0 \n",
    "for i,v in enumerate(list(range(1,25))):\n",
    "    cnt += 1\n",
    "    if v >= 9 and v <= 18: \n",
    "        df_test.loc[len(df_test.index)] = [df_t[\"hrs\"][2], df_t[\"Task\"][2]] \n",
    "#         print(f'{v} : {df_t[\"hrs\"][2]} {df_t[\"Task\"][2]}')\n",
    "    elif v > 18 or v <= 2:\n",
    "#         print(f'{v} : {df_t[\"hrs\"][1]} {df_t[\"Task\"][1]}')\n",
    "        df_test.loc[len(df_test.index)] = [df_t[\"hrs\"][1], df_t[\"Task\"][1]]\n",
    "    elif v < 9 or v > 2:\n",
    "#         print(f'{v} : {df_t[\"hrs\"][0]} {df_t[\"Task\"][0]}')    \n",
    "        df_test.loc[len(df_test.index)] = [df_t[\"hrs\"][0], df_t[\"Task\"][0]]\n",
    "df_test.style.applymap(color_positive_green)"
   ]
  },
  {
   "cell_type": "code",
   "execution_count": 105,
   "id": "ff0f2027",
   "metadata": {},
   "outputs": [
    {
     "data": {
      "text/plain": [
       "[1, 5]"
      ]
     },
     "execution_count": 105,
     "metadata": {},
     "output_type": "execute_result"
    }
   ],
   "source": [
    "from numpy.random import randint\n",
    "list(randint(10, size=2))"
   ]
  },
  {
   "cell_type": "code",
   "execution_count": 106,
   "id": "13cbb021",
   "metadata": {},
   "outputs": [
    {
     "data": {
      "text/html": [
       "<div>\n",
       "<style scoped>\n",
       "    .dataframe tbody tr th:only-of-type {\n",
       "        vertical-align: middle;\n",
       "    }\n",
       "\n",
       "    .dataframe tbody tr th {\n",
       "        vertical-align: top;\n",
       "    }\n",
       "\n",
       "    .dataframe thead th {\n",
       "        text-align: right;\n",
       "    }\n",
       "</style>\n",
       "<table border=\"1\" class=\"dataframe\">\n",
       "  <thead>\n",
       "    <tr style=\"text-align: right;\">\n",
       "      <th></th>\n",
       "      <th>Task</th>\n",
       "      <th>hrs</th>\n",
       "    </tr>\n",
       "  </thead>\n",
       "  <tbody>\n",
       "    <tr>\n",
       "      <th>0</th>\n",
       "      <td>Reading_Book</td>\n",
       "      <td>2</td>\n",
       "    </tr>\n",
       "    <tr>\n",
       "      <th>1</th>\n",
       "      <td>New_DataSet</td>\n",
       "      <td>4</td>\n",
       "    </tr>\n",
       "    <tr>\n",
       "      <th>2</th>\n",
       "      <td>Working_Hours</td>\n",
       "      <td>9</td>\n",
       "    </tr>\n",
       "    <tr>\n",
       "      <th>3</th>\n",
       "      <td>MLOPS</td>\n",
       "      <td>2</td>\n",
       "    </tr>\n",
       "  </tbody>\n",
       "</table>\n",
       "</div>"
      ],
      "text/plain": [
       "            Task  hrs\n",
       "0   Reading_Book    2\n",
       "1    New_DataSet    4\n",
       "2  Working_Hours    9\n",
       "3          MLOPS    2"
      ]
     },
     "execution_count": 106,
     "metadata": {},
     "output_type": "execute_result"
    }
   ],
   "source": [
    "df_t"
   ]
  },
  {
   "cell_type": "code",
   "execution_count": 86,
   "id": "f80d7952",
   "metadata": {},
   "outputs": [],
   "source": [
    "df_t.loc[len(df_t.index)] = ['Amy', 89] "
   ]
  },
  {
   "cell_type": "code",
   "execution_count": 90,
   "id": "3a72afac",
   "metadata": {},
   "outputs": [],
   "source": [
    "df_t.drop(4,  inplace = True)"
   ]
  },
  {
   "cell_type": "code",
   "execution_count": null,
   "id": "60a092f4",
   "metadata": {},
   "outputs": [],
   "source": []
  }
 ],
 "metadata": {
  "kernelspec": {
   "display_name": "Python 3 (ipykernel)",
   "language": "python",
   "name": "python3"
  },
  "language_info": {
   "codemirror_mode": {
    "name": "ipython",
    "version": 3
   },
   "file_extension": ".py",
   "mimetype": "text/x-python",
   "name": "python",
   "nbconvert_exporter": "python",
   "pygments_lexer": "ipython3",
   "version": "3.9.12"
  }
 },
 "nbformat": 4,
 "nbformat_minor": 5
}
